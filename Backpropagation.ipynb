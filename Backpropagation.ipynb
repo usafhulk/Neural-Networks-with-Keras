{
  "metadata": {
    "kernelspec": {
      "name": "python",
      "display_name": "Python (Pyodide)",
      "language": "python"
    },
    "language_info": {
      "codemirror_mode": {
        "name": "python",
        "version": 3
      },
      "file_extension": ".py",
      "mimetype": "text/x-python",
      "name": "python",
      "nbconvert_exporter": "python",
      "pygments_lexer": "ipython3",
      "version": "3.8"
    },
    "prev_pub_hash": "947a6ec452597a91eaa4fa6ece0a600859c0684a4192c56e37ddb58e207db692",
    "colab": {
      "provenance": []
    }
  },
  "nbformat_minor": 0,
  "nbformat": 4,
  "cells": [
    {
      "cell_type": "markdown",
      "source": [
        "## Import Required Libraries\n"
      ],
      "metadata": {
        "id": "oJriJqRnjrC5"
      }
    },
    {
      "cell_type": "code",
      "source": [
        "# Importing the required library\n",
        "import numpy as np\n",
        "import matplotlib.pyplot as plt"
      ],
      "metadata": {
        "id": "pxuDl7BTjrC5"
      },
      "outputs": [],
      "execution_count": 1
    },
    {
      "cell_type": "markdown",
      "source": [
        "## Initialize Inputs\n",
        "Define the input and expected output for a XOR gate problem\n"
      ],
      "metadata": {
        "id": "uXjPnEL3jrC5"
      }
    },
    {
      "cell_type": "code",
      "source": [
        "# Defining inputs and expected output (XOR truth table)\n",
        "X = np.array([[0, 0], [0, 1], [1, 0], [1, 1]]).T  # 2x4 matrix, each column is a training example\n",
        "d = np.array([0, 1, 1, 0])  # Expected output for XOR"
      ],
      "metadata": {
        "id": "hqN1IfvFjrC5"
      },
      "outputs": [],
      "execution_count": 2
    },
    {
      "cell_type": "markdown",
      "source": [
        "# Declare the network parameters\n",
        "\n",
        "Define the network parameters such as\n",
        "1. number of input neurons\n",
        "2. hidden layer neurons\n",
        "3. output neurons\n",
        "4. learning rate\n",
        "5. number of epochs\n"
      ],
      "metadata": {
        "id": "mM0ghkHUjrC5"
      }
    },
    {
      "cell_type": "code",
      "source": [
        "# Network parameters\n",
        "inputSize = 2     # Number of input neurons (x1, x2)\n",
        "hiddenSize = 2    # Number of hidden neurons\n",
        "outputSize = 1    # Number of output neurons\n",
        "lr = 0.1          # Learning rate\n",
        "epochs = 180000   # Number of training epochs"
      ],
      "metadata": {
        "id": "U8zemjidjrC5"
      },
      "outputs": [],
      "execution_count": 3
    },
    {
      "cell_type": "markdown",
      "source": [
        "## Define the weights\n",
        "Declare the weights for the neurons. The initial weights are taken as random numbers which are then optimized by the backpropagation algorithm\n"
      ],
      "metadata": {
        "id": "mkc64ObfjrC5"
      }
    },
    {
      "cell_type": "code",
      "source": [
        "# Initialize weights and biases randomly within the range [-1, 1]\n",
        "w1 = np.random.rand(hiddenSize, inputSize) * 2 - 1  # Weights from input to hidden layer\n",
        "b1 = np.random.rand(hiddenSize, 1) * 2 - 1         # Bias for hidden layer\n",
        "w2 = np.random.rand(outputSize, hiddenSize) * 2 - 1  # Weights from hidden to output layer\n",
        "b2 = np.random.rand(outputSize, 1) * 2 - 1         # Bias for output layer"
      ],
      "metadata": {
        "id": "XfGx5vCKjrC5"
      },
      "outputs": [],
      "execution_count": 4
    },
    {
      "cell_type": "markdown",
      "source": [
        "## Training the Neural Network\n",
        "\n",
        "The neural network works in 5 stages:\n",
        "1. Forward pass\n",
        "    * The input **X** is multiplied by the weights **w1** and passed through the first layer, followed by the application of the sigmoid or ReLU activation function. This gives the output for the hidden layer.\n",
        "    * The output of the hidden layer is then passed through the second set of weights **w2** to compute the final output. Again, a sigmoid activation function is used to generate the final output **a2**.\n",
        "    \n",
        "2. Error calculation\n",
        "    * The error is computed as the difference between the expected output **(d)** and the actual output **(a2)**.\n",
        "3. Backward pass\n",
        "    * **Output Layer**: The derivative of the sigmoid activation function is applied to the error, producing the gradient for the output layer **(da2)**. This is used to calculate how much the weights in the output layer need to be adjusted.\n",
        "    * **Hidden Layer**: The error is then propagated backward to the hidden layer. The gradient at the hidden layer **(da1)** is computed by taking the dot product of the transpose of the weights **(w2.T)** and the gradient from the output layer. The derivative of the activation function (sigmoid or ReLU) is used to adjust this error.\n",
        "4. Weights and bias updates\n",
        "    * After computing the **gradients (dz1, dz2)**, the **weights (w1, w2)** and **biases (b1, b2)** are updated using the **learning rate (lr)** and **the gradients**. The updates are done to minimize the error and improve the model’s predictions.\n",
        "5. Training:\n",
        "    * This entire process is repeated over many iterations **(epochs)**. During each epoch, the model adjusts its weights and biases to reduce the error. Over time, the network learns to approximate the XOR function.\n",
        "Forward Pass:\n",
        "\n"
      ],
      "metadata": {
        "id": "Wttq49zBjrC5"
      }
    },
    {
      "cell_type": "code",
      "source": [
        "# Training the network using backpropagation\n",
        "error_list = []\n",
        "for epoch in range(epochs):\n",
        "    # Forward pass\n",
        "    z1 = np.dot(w1, X) + b1  # Weighted sum for hidden layer\n",
        "    a1 = 1 / (1 + np.exp(-z1))  # Sigmoid activation for hidden layer\n",
        "\n",
        "    z2 = np.dot(w2, a1) + b2  # Weighted sum for output layer\n",
        "    a2 = 1 / (1 + np.exp(-z2))  # Sigmoid activation for output layer\n",
        "\n",
        "    # Error calculation and backpropagation\n",
        "    error = d - a2  # Difference between expected and actual output\n",
        "    da2 = error * (a2 * (1 - a2))  # Derivative for output layer\n",
        "    dz2 = da2  # Gradient for output layer\n",
        "\n",
        "    # Propagate error to hidden layer\n",
        "    da1 = np.dot(w2.T, dz2)  # Gradient for hidden layer\n",
        "    dz1 = da1 * (a1 * (1 - a1))  # Derivative for hidden layer\n",
        "\n",
        "    # Update weights and biases\n",
        "    w2 += lr * np.dot(dz2, a1.T)  # Update weights from hidden to output layer\n",
        "    b2 += lr * np.sum(dz2, axis=1, keepdims=True)  # Update bias for output layer\n",
        "\n",
        "    w1 += lr * np.dot(dz1, X.T)  # Update weights from input to hidden layer\n",
        "    b1 += lr * np.sum(dz1, axis=1, keepdims=True)  # Update bias for hidden layer\n",
        "    if (epoch+1)%10000 == 0:\n",
        "        print(\"Epoch: %d, Average error: %0.05f\"%(epoch, np.average(abs(error))))\n",
        "        error_list.append(np.average(abs(error)))"
      ],
      "metadata": {
        "colab": {
          "base_uri": "https://localhost:8080/"
        },
        "id": "Crs-CmeMjrC6",
        "outputId": "72fccec3-a9f2-4285-faab-db86b5d6de45"
      },
      "outputs": [
        {
          "output_type": "stream",
          "name": "stdout",
          "text": [
            "Epoch: 9999, Average error: 0.04759\n",
            "Epoch: 19999, Average error: 0.02905\n",
            "Epoch: 29999, Average error: 0.02258\n",
            "Epoch: 39999, Average error: 0.01906\n",
            "Epoch: 49999, Average error: 0.01678\n",
            "Epoch: 59999, Average error: 0.01515\n",
            "Epoch: 69999, Average error: 0.01391\n",
            "Epoch: 79999, Average error: 0.01292\n",
            "Epoch: 89999, Average error: 0.01212\n",
            "Epoch: 99999, Average error: 0.01145\n",
            "Epoch: 109999, Average error: 0.01088\n",
            "Epoch: 119999, Average error: 0.01038\n",
            "Epoch: 129999, Average error: 0.00994\n",
            "Epoch: 139999, Average error: 0.00956\n",
            "Epoch: 149999, Average error: 0.00922\n",
            "Epoch: 159999, Average error: 0.00891\n",
            "Epoch: 169999, Average error: 0.00863\n",
            "Epoch: 179999, Average error: 0.00837\n"
          ]
        }
      ],
      "execution_count": 5
    },
    {
      "cell_type": "markdown",
      "source": [
        "## Testing the Network\n",
        "After training, you can now test the neural network to verify that it has learned the XOR function and outputs the correct values close to [0, 1, 1, 0]\n"
      ],
      "metadata": {
        "id": "Qb1YwOBgjrC6"
      }
    },
    {
      "cell_type": "code",
      "source": [
        "# Testing the trained network\n",
        "z1 = np.dot(w1, X) + b1  # Weighted sum for hidden layer\n",
        "a1 = 1 / (1 + np.exp(-z1))  # Sigmoid activation for hidden layer\n",
        "\n",
        "z2 = np.dot(w2, a1) + b2  # Weighted sum for output layer\n",
        "a2 = 1 / (1 + np.exp(-z2))  # Sigmoid activation for output layer\n",
        "\n",
        "# Print results\n",
        "print('Final output after training:', a2)\n",
        "print('Ground truth', d)\n",
        "print('Error after training:', error)\n",
        "print('Average error: %0.05f'%np.average(abs(error)))\n",
        "\n"
      ],
      "metadata": {
        "colab": {
          "base_uri": "https://localhost:8080/"
        },
        "id": "_ynxxSH-jrC6",
        "outputId": "2e24a0b2-f2cb-4df3-c7f7-d3fbc2601f35"
      },
      "outputs": [
        {
          "output_type": "stream",
          "name": "stdout",
          "text": [
            "Final output after training: [[0.00923062 0.99202832 0.99205569 0.00833118]]\n",
            "Ground truth [0 1 1 0]\n",
            "Error after training: [[-0.00923065  0.0079717   0.00794433 -0.00833121]]\n",
            "Average error: 0.00837\n"
          ]
        }
      ],
      "execution_count": 7
    },
    {
      "cell_type": "markdown",
      "source": [
        "## Plot the error\n",
        "Here, we plot the error as a function of epochs. This shows how error changed over multiple iterations of forward and backward passes and how the network learnt over time\n"
      ],
      "metadata": {
        "id": "flClMdjWjrC6"
      }
    },
    {
      "cell_type": "code",
      "source": [
        "# Plot error\n",
        "plt.plot(error_list)\n",
        "plt.title('Error')\n",
        "plt.xlabel('Epochs')\n",
        "plt.ylabel('Error')\n",
        "plt.show()"
      ],
      "metadata": {
        "colab": {
          "base_uri": "https://localhost:8080/",
          "height": 472
        },
        "id": "fp4uH4BejrC6",
        "outputId": "386a94fd-71f1-40b9-d54b-26e2d8def41b"
      },
      "outputs": [
        {
          "output_type": "display_data",
          "data": {
            "text/plain": [
              "<Figure size 640x480 with 1 Axes>"
            ],
            "image/png": "[encoded data removed]"
          },
          "metadata": {}
        }
      ],
      "execution_count": 8
    },
    {
      "cell_type": "markdown",
      "source": [
        "# Practice exercise 1\n"
      ],
      "metadata": {
        "id": "pFc88Mh4jrC6"
      }
    },
    {
      "cell_type": "markdown",
      "source": [
        "Implement backpropagation for **AND problem** using similar input as used for XOR problem above and plot the error\n"
      ],
      "metadata": {
        "id": "18i08K7CjrC6"
      }
    },
    {
      "cell_type": "code",
      "source": [
        "# Define the input and expected output for an AND gate problem\n",
        "X = np.array([[0, 0], [0, 1], [1, 0], [1, 1]]).T\n",
        "d = np.array([0, 0, 0, 1])\n",
        "\n",
        "# Network parameters\n",
        "inputSize = 2\n",
        "hiddenSize = 2\n",
        "outputSize = 1\n",
        "lr = 0.1\n",
        "epochs = 180000\n",
        "\n",
        "# Initialize weights and biases\n",
        "w1 = np.random.rand(hiddenSize, inputSize) * 2 - 1\n",
        "b1 = np.random.rand(hiddenSize, 1) * 2 - 1\n",
        "w2 = np.random.rand(outputSize, hiddenSize) * 2 - 1\n",
        "b2 = np.random.rand(outputSize, 1) * 2 - 1\n",
        "\n",
        "# Training the network\n",
        "error_list = []\n",
        "for epoch in range(epochs):\n",
        "    # Forward pass\n",
        "    z1 = np.dot(w1, X) + b1\n",
        "    a1 = 1 / (1 + np.exp(-z1))\n",
        "\n",
        "    z2 = np.dot(w2, a1) + b2\n",
        "    a2 = 1 / (1 + np.exp(-z2))\n",
        "\n",
        "    # Error calculation and backpropagation\n",
        "    error = d - a2\n",
        "    da2 = error * (a2 * (1 - a2))\n",
        "    dz2 = da2\n",
        "\n",
        "    da1 = np.dot(w2.T, dz2)\n",
        "    dz1 = da1 * (a1 * (1 - a1))\n",
        "\n",
        "    # Update weights and biases\n",
        "    w2 += lr * np.dot(dz2, a1.T)\n",
        "    b2 += lr * np.sum(dz2, axis=1, keepdims=True)\n",
        "\n",
        "    w1 += lr * np.dot(dz1, X.T)\n",
        "    b1 += lr * np.sum(dz1, axis=1, keepdims=True)\n",
        "\n",
        "    if (epoch + 1) % 10000 == 0:\n",
        "        print(\"Epoch: %d, Average error: %0.05f\" % (epoch, np.average(abs(error))))\n",
        "        error_list.append(np.average(abs(error)))\n",
        "\n",
        "# Testing the network\n",
        "z1 = np.dot(w1, X) + b1\n",
        "a1 = 1 / (1 + np.exp(-z1))\n",
        "z2 = np.dot(w2, a1) + b2\n",
        "a2 = 1 / (1 + np.exp(-z2))\n",
        "\n",
        "print('Final output after training:', a2)\n",
        "print('Ground truth', d)\n",
        "print('Error after training:', error)\n",
        "print('Average error: %0.05f' % np.average(abs(error)))\n",
        "\n",
        "# Plot error\n",
        "plt.plot(error_list)\n",
        "plt.title('Error')\n",
        "plt.xlabel('Epochs')\n",
        "plt.ylabel('Error')\n",
        "plt.show()"
      ],
      "metadata": {
        "colab": {
          "base_uri": "https://localhost:8080/",
          "height": 878
        },
        "id": "wbdXxA_jjrC6",
        "outputId": "a4540190-9087-46a1-a76f-876474b478bf"
      },
      "outputs": [
        {
          "output_type": "stream",
          "name": "stdout",
          "text": [
            "Epoch: 9999, Average error: 0.02499\n",
            "Epoch: 19999, Average error: 0.01606\n",
            "Epoch: 29999, Average error: 0.01255\n",
            "Epoch: 39999, Average error: 0.01056\n",
            "Epoch: 49999, Average error: 0.00925\n",
            "Epoch: 59999, Average error: 0.00831\n",
            "Epoch: 69999, Average error: 0.00759\n",
            "Epoch: 79999, Average error: 0.00702\n",
            "Epoch: 89999, Average error: 0.00655\n",
            "Epoch: 99999, Average error: 0.00616\n",
            "Epoch: 109999, Average error: 0.00583\n",
            "Epoch: 119999, Average error: 0.00554\n",
            "Epoch: 129999, Average error: 0.00529\n",
            "Epoch: 139999, Average error: 0.00506\n",
            "Epoch: 149999, Average error: 0.00487\n",
            "Epoch: 159999, Average error: 0.00469\n",
            "Epoch: 169999, Average error: 0.00453\n",
            "Epoch: 179999, Average error: 0.00438\n",
            "Final output after training: [[1.25794918e-04 5.56761859e-03 4.11679032e-03 9.92294350e-01]]\n",
            "Ground truth [0 0 0 1]\n",
            "Error after training: [[-0.0001258  -0.00556764 -0.0041168   0.00770567]]\n",
            "Average error: 0.00438\n"
          ]
        },
        {
          "output_type": "display_data",
          "data": {
            "text/plain": [
              "<Figure size 640x480 with 1 Axes>"
            ],
            "image/png": "[encoded data removed]"
          },
          "metadata": {}
        }
      ],
      "execution_count": 9
    },
    {
      "cell_type": "markdown",
      "source": [
        "Double-click <b>here</b> for the solution.\n",
        "\n",
        "<!-- Your answer is below:\n",
        "\n",
        "\n",
        "X = np.array([[0, 0], [0, 1], [1, 0], [1, 1]]).T  # 2x4 matrix, each column is a training example\n",
        "d = np.array([0, 0, 0, 1])  # Expected output for AND\n",
        "\n",
        "# Training the network using backpropagation\n",
        "error_list = []\n",
        "for epoch in range(epochs):\n",
        "    # Forward pass\n",
        "    z1 = np.dot(w1, X) + b1  # Weighted sum for hidden layer\n",
        "    a1 = 1 / (1 + np.exp(-z1))  # Sigmoid activation for hidden layer\n",
        "\n",
        "    z2 = np.dot(w2, a1) + b2  # Weighted sum for output layer\n",
        "    a2 = 1 / (1 + np.exp(-z2))  # Sigmoid activation for output layer\n",
        "\n",
        "    # Error calculation and backpropagation\n",
        "    error = d - a2  # Difference between expected and actual output\n",
        "    da2 = error * (a2 * (1 - a2))  # Derivative for output layer\n",
        "    dz2 = da2  # Gradient for output layer\n",
        "\n",
        "    # Propagate error to hidden layer\n",
        "    da1 = np.dot(w2.T, dz2)  # Gradient for hidden layer\n",
        "    dz1 = da1 * (a1 * (1 - a1))  # Derivative for hidden layer\n",
        "\n",
        "    # Update weights and biases\n",
        "    w2 += lr * np.dot(dz2, a1.T)  # Update weights from hidden to output layer\n",
        "    b2 += lr * np.sum(dz2, axis=1, keepdims=True)  # Update bias for output layer\n",
        "\n",
        "    w1 += lr * np.dot(dz1, X.T)  # Update weights from input to hidden layer\n",
        "    b1 += lr * np.sum(dz1, axis=1, keepdims=True)  # Update bias for hidden layer\n",
        "    if (epoch+1)%10000 == 0:\n",
        "        print(\"Epoch: %d, Average error: %0.05f\"%(epoch, np.average(abs(error))))\n",
        "        error_list.append(np.average(abs(error)))\n",
        "\n",
        "\n",
        "# Testing the trained network\n",
        "z1 = np.dot(w1, X) + b1  # Weighted sum for hidden layer\n",
        "a1 = 1 / (1 + np.exp(-z1))  # Sigmoid activation for hidden layer\n",
        "\n",
        "z2 = np.dot(w2, a1) + b2  # Weighted sum for output layer\n",
        "a2 = 1 / (1 + np.exp(-z2))  # Sigmoid activation for output layer\n",
        "\n",
        "# Print results\n",
        "print('\\nFinal output after training:', a2)\n",
        "print('Ground truth', d)\n",
        "print('Error after training:', error)\n",
        "print('Average error: %0.05f'%np.average(abs(error)))\n",
        "\n",
        "# Plot error\n",
        "plt.plot(error_list)\n",
        "plt.title('Error')\n",
        "plt.xlabel('Epochs')\n",
        "plt.ylabel('Error')\n",
        "plt.show()\n",
        "\n",
        "\n",
        "-->\n"
      ],
      "metadata": {
        "id": "0LITxGC1jrC6"
      }
    },
    {
      "cell_type": "markdown",
      "source": [
        "# Practice exercise 2\n"
      ],
      "metadata": {
        "id": "Oi3hpcoDjrC7"
      }
    },
    {
      "cell_type": "markdown",
      "source": [
        "Now, decrease the learning rate to 0.01 and increase the number of epochs to 1000000 and check the error for XOR gate\n"
      ],
      "metadata": {
        "id": "4E9O1WjkjrC7"
      }
    },
    {
      "cell_type": "code",
      "source": [
        "# Network parameters\n",
        "inputSize = 2     # Number of input neurons (x1, x2)\n",
        "hiddenSize = 2    # Number of hidden neurons\n",
        "outputSize = 1    # Number of output neurons\n",
        "lr = 0.01          # Learning rate\n",
        "epochs = 1000000   # Number of training epochs\n",
        "\n",
        "# Initialize weights and biases randomly within the range [-1, 1]\n",
        "w1 = np.random.rand(hiddenSize, inputSize) * 2 - 1  # Weights from input to hidden layer\n",
        "b1 = np.random.rand(hiddenSize, 1) * 2 - 1         # Bias for hidden layer\n",
        "w2 = np.random.rand(outputSize, hiddenSize) * 2 - 1  # Weights from hidden to output layer\n",
        "b2 = np.random.rand(outputSize, 1) * 2 - 1         # Bias for output layer\n",
        "\n",
        "# Training the network using backpropagation\n",
        "error_list = []\n",
        "for epoch in range(epochs):\n",
        "    # Forward pass\n",
        "    z1 = np.dot(w1, X) + b1  # Weighted sum for hidden layer\n",
        "    a1 = 1 / (1 + np.exp(-z1))  # Sigmoid activation for hidden layer\n",
        "\n",
        "    z2 = np.dot(w2, a1) + b2  # Weighted sum for output layer\n",
        "    a2 = 1 / (1 + np.exp(-z2))  # Sigmoid activation for output layer\n",
        "\n",
        "    # Error calculation and backpropagation\n",
        "    error = d - a2  # Difference between expected and actual output\n",
        "    da2 = error * (a2 * (1 - a2))  # Derivative for output layer\n",
        "    dz2 = da2  # Gradient for output layer\n",
        "\n",
        "    # Propagate error to hidden layer\n",
        "    da1 = np.dot(w2.T, dz2)  # Gradient for hidden layer\n",
        "    dz1 = da1 * (a1 * (1 - a1))  # Derivative for hidden layer\n",
        "\n",
        "    # Update weights and biases\n",
        "    w2 += lr * np.dot(dz2, a1.T)  # Update weights from hidden to output layer\n",
        "    b2 += lr * np.sum(dz2, axis=1, keepdims=True)  # Update bias for output layer\n",
        "\n",
        "    w1 += lr * np.dot(dz1, X.T)  # Update weights from input to hidden layer\n",
        "    b1 += lr * np.sum(dz1, axis=1, keepdims=True)  # Update bias for hidden layer\n",
        "    if (epoch+1)%100000 == 0:\n",
        "        print(\"Epoch: %d, Average error: %0.05f\"%(epoch, np.average(abs(error))))\n",
        "        error_list.append(np.average(abs(error)))\n",
        "\n",
        "# Testing the network\n",
        "z1 = np.dot(w1, X) + b1  # Weighted sum for hidden layer\n",
        "a1 = 1 / (1 + np.exp(-z1))  # Sigmoid activation for hidden layer\n",
        "\n",
        "z2 = np.dot(w2, a1) + b2  # Weighted sum for output layer\n",
        "a2 = 1 / (1 + np.exp(-z2))  # Sigmoid activation for output layer\n",
        "\n",
        "# Print results\n",
        "print('Final output after training:', a2)\n",
        "print('Ground truth', d)\n",
        "print('Error after training:', error)\n",
        "print('Average error: %0.05f'%np.average(abs(error)))\n",
        "\n",
        "plt.plot(error_list)\n",
        "plt.title('Error')\n",
        "plt.xlabel('Epochs')\n",
        "plt.ylabel('Error')\n",
        "plt.show()\n"
      ],
      "metadata": {
        "colab": {
          "base_uri": "https://localhost:8080/",
          "height": 730
        },
        "id": "hnLAi9zNjrC7",
        "outputId": "f16a5216-2a58-4f34-b052-f79e83e143a2"
      },
      "outputs": [
        {
          "output_type": "stream",
          "name": "stdout",
          "text": [
            "Epoch: 99999, Average error: 0.02424\n",
            "Epoch: 199999, Average error: 0.01468\n",
            "Epoch: 299999, Average error: 0.01132\n",
            "Epoch: 399999, Average error: 0.00950\n",
            "Epoch: 499999, Average error: 0.00832\n",
            "Epoch: 599999, Average error: 0.00748\n",
            "Epoch: 699999, Average error: 0.00685\n",
            "Epoch: 799999, Average error: 0.00635\n",
            "Epoch: 899999, Average error: 0.00594\n",
            "Epoch: 999999, Average error: 0.00560\n",
            "Final output after training: [[3.30819520e-04 6.43972728e-03 6.49265136e-03 9.90878276e-01]]\n",
            "Ground truth [0 0 0 1]\n",
            "Error after training: [[-0.00033082 -0.00643973 -0.00649266  0.00912173]]\n",
            "Average error: 0.00560\n"
          ]
        },
        {
          "output_type": "display_data",
          "data": {
            "text/plain": [
              "<Figure size 640x480 with 1 Axes>"
            ],
            "image/png": "[encoded data removed]"
          },
          "metadata": {}
        }
      ],
      "execution_count": 10
    }
  ]
}