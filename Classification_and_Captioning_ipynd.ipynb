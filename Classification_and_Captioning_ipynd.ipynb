{
  "nbformat": 4,
  "nbformat_minor": 0,
  "metadata": {
    "colab": {
      "private_outputs": true,
      "provenance": [],
      "cell_execution_strategy": "setup",
      "authorship_tag": "ABX9TyMK/gK+6+WPY2yaX4poT/bu",
      "include_colab_link": true
    },
    "kernelspec": {
      "name": "python3",
      "display_name": "Python 3"
    },
    "language_info": {
      "name": "python"
    }
  },
  "cells": [
    {
      "cell_type": "markdown",
      "metadata": {
        "id": "view-in-github",
        "colab_type": "text"
      },
      "source": [
        "<a href=\"https://colab.research.google.com/github/usafhulk/Neural-Networks-with-Keras/blob/main/Classification_and_Captioning_ipynd.ipynb\" target=\"_parent\"><img src=\"https://colab.research.google.com/assets/colab-badge.svg\" alt=\"Open In Colab\"/></a>"
      ]
    },
    {
      "cell_type": "code",
      "execution_count": null,
      "metadata": {
        "id": "l15URzqUE1Ac"
      },
      "outputs": [],
      "source": [
        "import warnings\n",
        "warnings.filterwarnings('ignore')"
      ]
    },
    {
      "cell_type": "code",
      "source": [
        "import os\n",
        "os.environ['TF_ENABLE_ONEDNN_OPTS'] = '0'\n",
        "os.environ['TF_CPP_MIN_LOG_LEVEL'] = '2'"
      ],
      "metadata": {
        "id": "N2Th76_uE12R"
      },
      "execution_count": null,
      "outputs": []
    },
    {
      "cell_type": "code",
      "source": [
        "import zipfile\n",
        "import keras\n",
        "from keras.models import Sequential, Model\n",
        "from keras.layers import Dense, Dropout, Flatten\n",
        "from keras.applications import VGG16\n",
        "from keras.optimizers import Adam\n",
        "import tensorflow as tf\n",
        "from tensorflow.keras.preprocessing.image import ImageDataGenerator\n",
        "import matplotlib.pyplot as plt\n",
        "import numpy as np\n",
        "from keras.preprocessing import image\n",
        "import random"
      ],
      "metadata": {
        "id": "Jd0EKRQfE3tn"
      },
      "execution_count": null,
      "outputs": []
    },
    {
      "cell_type": "code",
      "source": [
        "# Set seed for reproducibility\n",
        "seed_value = 42\n",
        "random.seed(seed_value)\n",
        "np.random.seed(seed_value)\n",
        "tf.random.set_seed(seed_value)"
      ],
      "metadata": {
        "id": "PduMrEddE5ZP"
      },
      "execution_count": null,
      "outputs": []
    },
    {
      "cell_type": "markdown",
      "source": [
        "# Part 1: Classifying the Problem"
      ],
      "metadata": {
        "id": "5bgIo-JtGtFB"
      }
    },
    {
      "cell_type": "markdown",
      "source": [
        "#### 1.1 Dataset Preperation"
      ],
      "metadata": {
        "id": "46lz1dacGzKA"
      }
    },
    {
      "cell_type": "code",
      "source": [
        "#Set the batch size,epochs\n",
        "batch_size = 32\n",
        "n_epochs = 5\n",
        "img_rows, img_cols = 224, 224\n",
        "input_shape = (img_rows, img_cols, 3)"
      ],
      "metadata": {
        "id": "eo7-NoGnFI-F"
      },
      "execution_count": null,
      "outputs": []
    },
    {
      "cell_type": "code",
      "source": [
        "import tarfile\n",
        "import urllib.request\n",
        "import os\n",
        "import shutil\n",
        "\n",
        "# URL of the tar file\n",
        "url = \"https://cf-courses-data.s3.us.cloud-object-storage.appdomain.cloud/ZjXM4RKxlBK9__ZjHBLl5A/aircraft-damage-dataset-v1.tar\"\n",
        "\n",
        "# Define the path to save the file\n",
        "tar_filename = \"aircraft_damage_dataset_v1.tar\"\n",
        "extracted_folder = \"aircraft_damage_dataset_v1\"  # Folder where contents will be extracted\n",
        "\n",
        "# Download the tar file\n",
        "urllib.request.urlretrieve(url, tar_filename)\n",
        "print(f\"Downloaded {tar_filename}. Extraction will begin now.\")\n",
        "\n",
        "# Check if the folder already exists\n",
        "if os.path.exists(extracted_folder):\n",
        "    print(f\"The folder '{extracted_folder}' already exists. Removing the existing folder.\")\n",
        "\n",
        "    # Remove the existing folder to avoid overwriting or duplication\n",
        "    shutil.rmtree(extracted_folder)\n",
        "    print(f\"Removed the existing folder: {extracted_folder}\")\n",
        "\n",
        "# Extract the contents of the tar file\n",
        "with tarfile.open(tar_filename, \"r\") as tar_ref:\n",
        "    tar_ref.extractall()  # This will extract to the current directory\n",
        "    print(f\"Extracted {tar_filename} successfully.\")\n"
      ],
      "metadata": {
        "id": "A2CV2gT2FWJb"
      },
      "execution_count": null,
      "outputs": []
    },
    {
      "cell_type": "code",
      "source": [
        "# showing the content of the folder\n",
        "\n",
        "import os\n",
        "\n",
        "def print_directory_structure(startpath):\n",
        "    for root, dirs, files in os.walk(startpath):\n",
        "        level = root.replace(startpath, '').count(os.sep)\n",
        "        indent = ' ' * 4 * (level)\n",
        "        print(f'{indent}{os.path.basename(root)}/')\n",
        "        subindent = ' ' * 4 * (level + 1)\n",
        "        for f in files:\n",
        "            print(f'{subindent}{f}')\n",
        "\n",
        "# Assuming 'extracted_folder' holds the name of the extracted dataset directory\n",
        "extracted_folder = \"aircraft_damage_dataset_v1\"\n",
        "print_directory_structure(extracted_folder)"
      ],
      "metadata": {
        "collapsed": true,
        "id": "au9KiBH2FWD_"
      },
      "execution_count": null,
      "outputs": []
    },
    {
      "cell_type": "code",
      "source": [
        "# Define directories for train, test, and validation splits\n",
        "extract_path = \"aircraft_damage_dataset_v1\"\n",
        "train_dir = os.path.join(extract_path, 'train')\n",
        "test_dir = os.path.join(extract_path, 'test')\n",
        "valid_dir = os.path.join(extract_path, 'valid')"
      ],
      "metadata": {
        "id": "Wm95BswlFWBh"
      },
      "execution_count": null,
      "outputs": []
    },
    {
      "cell_type": "markdown",
      "source": [
        "#### 1.2 Data Preprocessing"
      ],
      "metadata": {
        "id": "SsobvTaIG5SH"
      }
    },
    {
      "cell_type": "code",
      "source": [
        "# Create ImageDataGenerators to preprocess the data\n",
        "train_datagen = ImageDataGenerator(rescale=1./255)\n",
        "valid_datagen = ImageDataGenerator(rescale=1./255)\n",
        "test_datagen = ImageDataGenerator(rescale=1./255)"
      ],
      "metadata": {
        "id": "hBD5_kEBFV0N"
      },
      "execution_count": null,
      "outputs": []
    },
    {
      "cell_type": "code",
      "source": [
        "train_generator = train_datagen.flow_from_directory(\n",
        "    train_dir,\n",
        "    target_size=(img_rows, img_cols),   # Resize images to the size VGG16 expects\n",
        "    batch_size=batch_size,\n",
        "    seed = seed_value,\n",
        "    class_mode='binary',\n",
        "    shuffle=True # Binary classification: dent vs crack\n",
        ")"
      ],
      "metadata": {
        "id": "xb6gQ-5_G-dT"
      },
      "execution_count": null,
      "outputs": []
    },
    {
      "cell_type": "markdown",
      "source": [
        "## Create a `valid_generator` using the `valid_datagen` object\n",
        "\n",
        "\n",
        "*   **directory** should be set to `valid_dir`.\n",
        "*   **class_mode** should be set to `'binary'`.\n",
        "*   **seed** should be set to `seed_value`.\n",
        "*   **batch_size** should be set to `batch_size`.\n",
        "*   **shuffle** should be set to `False`.\n",
        "*   **target_size** should be set to `(img_rows, img_cols)`.\n"
      ],
      "metadata": {
        "id": "5rU3WPJ2HEE2"
      }
    },
    {
      "cell_type": "code",
      "source": [
        "valid_generator = valid_datagen.flow_from_directory(\n",
        "    directory = valid_dir,\n",
        "    class_mode = 'binary',\n",
        "    seed = seed_value,\n",
        "    batch_size = batch_size,\n",
        "    shuffle = False,\n",
        "    target_size = (img_rows, img_cols)\n",
        ")"
      ],
      "metadata": {
        "id": "0sj-jiOnHllB"
      },
      "execution_count": null,
      "outputs": []
    },
    {
      "cell_type": "markdown",
      "source": [
        "##  Create a `test_generator` using the `test_datagen` object\n",
        "\n",
        "\n",
        "\n",
        "*   **directory** should be set to `test_dir`.\n",
        "*   **class_mode** should be set to `'binary'`.\n",
        "*   **seed** should be set to `seed_value`.\n",
        "*   **batch_size** should be set to `batch_size`.\n",
        "*   **shuffle** should be set to `False`.\n",
        "*   **target_size** should be set to `(img_rows, img_cols)`.\n",
        "\n"
      ],
      "metadata": {
        "id": "lSBdZiw4IPf8"
      }
    },
    {
      "cell_type": "code",
      "source": [
        "test_generator = test_datagen.flow_from_directory(\n",
        "    directory = test_dir,\n",
        "    class_mode = 'binary',\n",
        "    seed = seed_value,\n",
        "    batch_size = batch_size,\n",
        "    shuffle = False,\n",
        "    target_size = (img_rows, img_cols)\n",
        ")"
      ],
      "metadata": {
        "id": "NpfVKf9XIa0Z"
      },
      "execution_count": null,
      "outputs": []
    },
    {
      "cell_type": "markdown",
      "source": [
        "## Load the pre-trained model VGG16\n",
        "\n",
        "Set <code>weights='imagenet'</code>,<code>include_top=False</code>,<code>input_shape=(img_rows, img_cols, 3)</code>\n",
        "\n"
      ],
      "metadata": {
        "id": "DJ6u_vGYJY4R"
      }
    },
    {
      "cell_type": "code",
      "source": [
        "base_model = VGG16(weights='imagenet', include_top=False, input_shape=(img_rows, img_cols, 3))"
      ],
      "metadata": {
        "id": "HrzfmNcCJ0iq"
      },
      "execution_count": null,
      "outputs": []
    },
    {
      "cell_type": "code",
      "source": [
        "output = base_model.layers[-1].output\n",
        "output = keras.layers.Flatten()(output)\n",
        "base_model = Model(base_model.input, output)\n",
        "\n",
        "# Freeze the base VGG16 model layers\n",
        "for layer in base_model.layers:\n",
        "    layer.trainable = False"
      ],
      "metadata": {
        "id": "721nvY-BKIkt"
      },
      "execution_count": null,
      "outputs": []
    },
    {
      "cell_type": "code",
      "source": [
        "# Build the custom model\n",
        "model = Sequential()\n",
        "model.add(base_model)\n",
        "model.add(Dense(512, activation='relu'))\n",
        "model.add(Dropout(0.3))\n",
        "model.add(Dense(512, activation='relu'))\n",
        "model.add(Dropout(0.3))\n",
        "model.add(Dense(1, activation='sigmoid'))"
      ],
      "metadata": {
        "id": "eYR7G1HdKWlc"
      },
      "execution_count": null,
      "outputs": []
    },
    {
      "cell_type": "markdown",
      "source": [
        "## Compile the model\n",
        "\n",
        "compile the model using the following parameters:\n",
        "\n",
        "*   **loss**: `'binary_crossentropy'`.\n",
        "*   **optimizer**: `=Adam(learning_rate=0.0001)`.\n",
        "*   **metrics**: `['accuracy']`.\n",
        "\n",
        "\n"
      ],
      "metadata": {
        "id": "my8GLjsIKaKj"
      }
    },
    {
      "cell_type": "code",
      "source": [
        "model.compile(\n",
        "    optimizer=Adam(learning_rate=0.0001),\n",
        "    loss='binary_crossentropy',\n",
        "    metrics=['accuracy']\n",
        ")"
      ],
      "metadata": {
        "id": "1l2biVHTKgdF"
      },
      "execution_count": null,
      "outputs": []
    },
    {
      "cell_type": "markdown",
      "source": [
        "## Model Training\n",
        "\n",
        "train the model using the following parameters:\n",
        "\n",
        "*   **train_data**: `train_generator`\n",
        "*   **epochs**: `n_epochs`\n",
        "*   **validation_data**: `valid_generator`\n",
        "\n",
        "\n"
      ],
      "metadata": {
        "id": "k-5_fsbXLAkv"
      }
    },
    {
      "cell_type": "code",
      "source": [
        "history = model.fit(\n",
        "    train_generator,\n",
        "    epochs=n_epochs,\n",
        "    validation_data=valid_generator,\n",
        ")"
      ],
      "metadata": {
        "id": "QPJjMw3ALC5j"
      },
      "execution_count": null,
      "outputs": []
    },
    {
      "cell_type": "code",
      "source": [
        "train_history = model.history.history"
      ],
      "metadata": {
        "id": "2tvkI-aZLOz3"
      },
      "execution_count": null,
      "outputs": []
    },
    {
      "cell_type": "code",
      "source": [
        "# Plot the loss for both training and validation\n",
        "plt.title(\"Training Loss\")\n",
        "plt.ylabel(\"Loss\")\n",
        "plt.xlabel('Epoch')\n",
        "plt.plot(train_history['loss'])\n",
        "plt.show()\n",
        "\n",
        "plt.title(\"Validation Loss\")\n",
        "plt.ylabel(\"Loss\")\n",
        "plt.xlabel('Epoch')\n",
        "plt.plot(train_history['val_loss'])\n",
        "plt.show()"
      ],
      "metadata": {
        "id": "8vvQzlP_QTx2"
      },
      "execution_count": null,
      "outputs": []
    },
    {
      "cell_type": "markdown",
      "source": [
        "## Plot accuracy curves for training and validation sets\n",
        "\n"
      ],
      "metadata": {
        "id": "ms4v_vlxT5ou"
      }
    },
    {
      "cell_type": "code",
      "source": [
        "plt.figure(figsize=(5, 5))\n",
        "plt.plot(train_history['accuracy'], label='Training Accuracy')\n",
        "plt.plot(train_history['val_accuracy'], label='Validation Accuracy')\n",
        "plt.title('Accuracy Curve')\n",
        "plt.xlabel('Epochs')\n",
        "plt.ylabel('Accuracy')\n",
        "plt.legend()\n",
        "plt.show()"
      ],
      "metadata": {
        "id": "5O0GFV1hT-KN"
      },
      "execution_count": null,
      "outputs": []
    },
    {
      "cell_type": "code",
      "source": [
        "# Evaluate the model on the test set\n",
        "test_loss, test_accuracy = model.evaluate(test_generator, steps=test_generator.samples // test_generator.batch_size)\n",
        "\n",
        "print(f\"Test Loss: {test_loss:.4f}\")\n",
        "print(f\"Test Accuracy: {test_accuracy:.4f}\")"
      ],
      "metadata": {
        "id": "OnBzJqd9T_lh"
      },
      "execution_count": null,
      "outputs": []
    },
    {
      "cell_type": "code",
      "source": [
        "import numpy as np\n",
        "import matplotlib.pyplot as plt\n",
        "from tensorflow.keras.preprocessing import image\n",
        "\n",
        "# Function to plot a single image and its prediction\n",
        "def plot_image_with_title(image, model, true_label, predicted_label, class_names):\n",
        "    plt.figure(figsize=(6, 6))\n",
        "    plt.imshow(image)\n",
        "\n",
        "    # Convert labels from one-hot to class indices if needed, but for binary labels it's just 0 or 1\n",
        "    true_label_name = class_names[true_label]  # Labels are already in class indices\n",
        "    pred_label_name = class_names[predicted_label]  # Predictions are 0 or 1\n",
        "\n",
        "    plt.title(f\"True: {true_label_name}\\nPred: {pred_label_name}\")\n",
        "    plt.axis('off')\n",
        "    plt.show()\n",
        "\n",
        "# Function to test the model with images from the test set\n",
        "def test_model_on_image(test_generator, model, index_to_plot=0):\n",
        "    # Get a batch of images and labels from the test generator\n",
        "    test_images, test_labels = next(test_generator)\n",
        "\n",
        "    # Make predictions on the batch\n",
        "    predictions = model.predict(test_images)\n",
        "\n",
        "    # In binary classification, predictions are probabilities (float). Convert to binary (0 or 1)\n",
        "    predicted_classes = (predictions > 0.5).astype(int).flatten()\n",
        "\n",
        "    # Get the class indices from the test generator and invert them to get class names\n",
        "    class_indices = test_generator.class_indices\n",
        "    class_names = {v: k for k, v in class_indices.items()}  # Invert the dictionary\n",
        "\n",
        "    # Specify the image to display based on the index\n",
        "    image_to_plot = test_images[index_to_plot]\n",
        "    true_label = test_labels[index_to_plot]\n",
        "    predicted_label = predicted_classes[index_to_plot]\n",
        "\n",
        "    # Plot the selected image with its true and predicted labels\n",
        "    plot_image_with_title(image=image_to_plot, model=model, true_label=true_label, predicted_label=predicted_label, class_names=class_names)\n",
        "\n",
        "\n"
      ],
      "metadata": {
        "id": "c2z7ey5qUi6M"
      },
      "execution_count": null,
      "outputs": []
    },
    {
      "cell_type": "code",
      "source": [
        "index_to_plot = 1\n",
        "test_model_on_image(test_generator, model, index_to_plot=index_to_plot)"
      ],
      "metadata": {
        "id": "HB79Rv8KUrJw"
      },
      "execution_count": null,
      "outputs": []
    },
    {
      "cell_type": "markdown",
      "source": [
        "##  Image Captioning and Summarization using BLIP Pretrained Model"
      ],
      "metadata": {
        "id": "J11eyWydVIMi"
      }
    },
    {
      "cell_type": "markdown",
      "source": [
        "BLIP (Bootstrapping Language-Image Pretraining) is an advanced vision-and-language model designed to generate natural language descriptions for images. By leveraging both visual and textual information, BLIP can produce human-readable text that accurately reflects the content and context of an image. It is specifically trained to understand images and their relationships to summarizing text, making it ideal for tasks like image captioning, summarization, and visual question answering.\n",
        "\n",
        "In this project, learners will utilize the BLIP model to build a system capable of automatically generating captions and summary for images. The code will integrate the BLIP model within a custom Keras layer. This allows the user to input an image and specify a task, either \"caption\" or \"summary\", to receive a textual output that describes or summarizes the content of the image.\n"
      ],
      "metadata": {
        "id": "srVUQcZkVJOZ"
      }
    },
    {
      "cell_type": "markdown",
      "source": [
        "#### Key Steps:\n",
        "\n",
        "- **Image Loading and Preprocessing:** The code will begin by loading images from a file path, then converting and processing them into a format suitable for input to the BLIP model.\n",
        "  \n",
        "- **Text Generation:** Depending on the task, whether generating a caption or summary, the BLIP model will generate corresponding text based on the processed image.\n",
        "  \n",
        "- **Custom Keras Layer:** A custom Keras layer is a user-defined layer that extends Keras' built-in functionality.Here custom Keras layer will be implemented to wrap the BLIP model. This layer will handle the task-specific processing (captioning or summarizing) and integrate smoothly into a TensorFlow/Keras environment.\n"
      ],
      "metadata": {
        "id": "XU53RPqXVLRz"
      }
    },
    {
      "cell_type": "code",
      "source": [
        "#Load the required libraries\n",
        "import torch\n",
        "import tensorflow as tf\n",
        "from PIL import Image\n",
        "from transformers import BlipProcessor, BlipForConditionalGeneration"
      ],
      "metadata": {
        "id": "7FuVbJiyUzST"
      },
      "execution_count": null,
      "outputs": []
    },
    {
      "cell_type": "markdown",
      "source": [
        "## 2.1 Loading BLIP Model\n",
        "\n",
        "#### Load the BLIP Model and Processor from Hugging Face\n",
        "\n",
        "Hugging Face is an open-source platform that provides pre-trained machine learning models, datasets, and tools, primarily focused on natural language processing, computer vision, and other AI tasks. It offers easy access to powerful models through its Transformers library.\n",
        "\n",
        "- **BlipProcessor:** This handles the preprocessing of images and text. It converts images to the format that the BLIP model can understand.\n",
        "\n",
        "- **BlipForConditionalGeneration:** This is the model itself, responsible for generating captions or summaries based on the processed image.\n",
        "\n"
      ],
      "metadata": {
        "id": "nga3yX5GVWcb"
      }
    },
    {
      "cell_type": "code",
      "source": [
        "#load the pretrained BLIP processor and model:\n",
        "processor = BlipProcessor.from_pretrained(\"Salesforce/blip-image-captioning-base\")\n",
        "model = BlipForConditionalGeneration.from_pretrained(\"Salesforce/blip-image-captioning-base\")"
      ],
      "metadata": {
        "id": "LItsvRfuVQi6"
      },
      "execution_count": null,
      "outputs": []
    },
    {
      "cell_type": "markdown",
      "source": [
        "#### Custom Keras Layer: BlipCaptionSummaryLayer\n",
        "\n",
        "Next, we define a custom `tf.keras.layers.Layer` class that takes in an image and a task input (either caption or summary) and processes the image using the BLIP model. To create a custom Keras layer, we need to subclass `tf.keras.layers.Layer` and implement the required methods.\n",
        "\n",
        "#### **BlipCaptionSummaryLayer Class:**\n",
        "\n",
        "This custom Keras layer integrates image preprocessing and text generation using a pretrained BLIP model.\n",
        "\n",
        "- **`__init__`**: This constructor method initializes the `BlipCaptionSummaryLayer` class by setting up the BLIP processor and model.\n",
        "  \n",
        "- **`call`**: This method defines the operations or transformations applied to the input data as it passes through the layer.\n",
        "\n",
        "- **`process_image`**: The `process_image` method contains the custom logic for loading the image, preprocessing it, generating the text (either a caption or a summary) using the BLIP model, and returning the generated result.\n"
      ],
      "metadata": {
        "id": "p1ks6FviVj74"
      }
    },
    {
      "cell_type": "code",
      "source": [
        "class BlipCaptionSummaryLayer(tf.keras.layers.Layer):\n",
        "    def __init__(self, processor, model, **kwargs):\n",
        "        \"\"\"\n",
        "        Initialize the custom Keras layer with the BLIP processor and model.\n",
        "\n",
        "        Args:\n",
        "            processor: The BLIP processor for preparing inputs for the model.\n",
        "            model: The BLIP model for generating captions or summaries.\n",
        "        \"\"\"\n",
        "        super().__init__(**kwargs)\n",
        "        self.processor = processor\n",
        "        self.model = model\n",
        "\n",
        "    def call(self, image_path, task):\n",
        "        # Use tf.py_function to run the custom image processing and text generation\n",
        "        return tf.py_function(self.process_image, [image_path, task], tf.string)\n",
        "\n",
        "    def process_image(self, image_path, task):\n",
        "        \"\"\"\n",
        "        Perform image loading, preprocessing, and text generation.\n",
        "\n",
        "        Args:\n",
        "            image_path: Path to the image file as a string.\n",
        "            task: The type of task (\"caption\" or \"summary\").\n",
        "\n",
        "        Returns:\n",
        "            The generated caption or summary as a string.\n",
        "        \"\"\"\n",
        "        try:\n",
        "            # Decode the image path from the TensorFlow tensor to a Python string\n",
        "            image_path_str = image_path.numpy().decode(\"utf-8\")\n",
        "\n",
        "            # Open the image using PIL and convert it to RGB format\n",
        "            image = Image.open(image_path_str).convert(\"RGB\")\n",
        "\n",
        "            # Set the appropriate prompt based on the task\n",
        "            if task.numpy().decode(\"utf-8\") == \"caption\":\n",
        "                prompt = \"This is a picture of\"  # Modify prompt for more natural output\n",
        "            else:\n",
        "                prompt = \"This is a detailed photo showing\"  # Modify for summary\n",
        "\n",
        "            # Prepare inputs for the BLIP model\n",
        "            inputs = self.processor(images=image, text=prompt, return_tensors=\"pt\")\n",
        "\n",
        "            # Generate text output using the BLIP model\n",
        "            output = self.model.generate(**inputs)\n",
        "\n",
        "            # Decode the output into a readable string\n",
        "            result = self.processor.decode(output[0], skip_special_tokens=True)\n",
        "            return result\n",
        "        except Exception as e:\n",
        "            # Handle errors during image processing or text generation\n",
        "            print(f\"Error: {e}\")\n",
        "            return \"Error processing image\"\n"
      ],
      "metadata": {
        "id": "fka-W4x4VfTg"
      },
      "execution_count": null,
      "outputs": []
    },
    {
      "cell_type": "markdown",
      "source": [
        "##  Implement a Helper Function to Use the Custom Keras Layer\n",
        "\n",
        " implement a helper function `generate_text` that utilizes the custom `BlipCaptionSummaryLayer` Keras layer to generate captions or summaries for a given image. The function will accept an image path and a task type (caption or summary), process the image using the BLIP model, and return the generated text.\n",
        "\n",
        "\n",
        "\n",
        "#### Create the Helper Function `generate_text`:\n",
        "The function will accept following parameters:\n",
        "\n",
        "* **`image_path`**: The path to the image file (in tensor format).\n",
        "* **`task`**: The type of task to perform, which can either be \"caption\" or \"summary\" (in tensor format).\n",
        "  \n",
        "Inside the function:\n",
        "1. Create an instance(blip_layer) of the `BlipCaptionSummaryLayer`.\n",
        "2. Call this layer with the provided image path and task type.\n",
        "3. Return the generated caption or summary as the output.\n",
        "\n",
        "\n"
      ],
      "metadata": {
        "id": "JUDIhtOQVscX"
      }
    },
    {
      "cell_type": "code",
      "source": [
        "def generate_text(image_path, task):\n",
        "  blip_layer = BlipCaptionSummaryLayer(processor, model)\n",
        "  generated_text = blip_layer(image_path, task)\n",
        "  return generated_text"
      ],
      "metadata": {
        "id": "pxGPOWXAVxIX"
      },
      "execution_count": null,
      "outputs": []
    },
    {
      "cell_type": "code",
      "source": [
        "\n",
        "# Path to an example image\n",
        "image_path = tf.constant(\"aircraft_damage_dataset_v1/test/dent/144_10_JPG_jpg.rf.4d008cc33e217c1606b76585469d626b.jpg\")  # actual path of image\n",
        "\n",
        "# Generate a caption for the image\n",
        "caption = generate_text(image_path, tf.constant(\"caption\"))\n",
        "# Decode and print the generated caption\n",
        "print(\"Caption:\", caption.numpy().decode(\"utf-8\"))\n",
        "\n",
        "# Generate a summary for the image\n",
        "summary = generate_text(image_path, tf.constant(\"summary\"))\n",
        "# Decode and print the generated summary\n",
        "print(\"Summary:\", summary.numpy().decode(\"utf-8\"))"
      ],
      "metadata": {
        "id": "3Hgksg2sVxiX"
      },
      "execution_count": null,
      "outputs": []
    },
    {
      "cell_type": "markdown",
      "source": [
        "## Generate a caption for an image using the using BLIP pretrained model\n",
        "\n",
        "- Use the image_path variable given below to load the image. Run the cell to before proceeding to next step.\n",
        "- Use the `generate_text` function to generate a caption for the image.\n",
        "- Use the example given in `2.2 Generating Captions and Summaries` for this task\n",
        "\n"
      ],
      "metadata": {
        "id": "PqLy6VUQXcXr"
      }
    },
    {
      "cell_type": "code",
      "source": [
        "# We will use the following image to display Caption and Summary for Task 9 and 10\n",
        "# URL of the image\n",
        "image_url = \"aircraft_damage_dataset_v1/test/dent/149_22_JPG_jpg.rf.4899cbb6f4aad9588fa3811bb886c34d.jpg\"\n",
        "# Load and display the image\n",
        "img = plt.imread(image_url)\n",
        "plt.imshow(img)\n",
        "plt.axis('off')  # Hide the axis\n",
        "plt.show()"
      ],
      "metadata": {
        "id": "EDGDHzYzXSIu"
      },
      "execution_count": null,
      "outputs": []
    },
    {
      "cell_type": "code",
      "source": [
        "image_path = tf.constant(\"aircraft_damage_dataset_v1/test/dent/149_22_JPG_jpg.rf.4899cbb6f4aad9588fa3811bb886c34d.jpg\")  # actual path of image"
      ],
      "metadata": {
        "id": "h7c3evJdXV5K"
      },
      "execution_count": null,
      "outputs": []
    },
    {
      "cell_type": "code",
      "source": [
        "# Generate a caption for the image\n",
        "caption = generate_text(image_path, tf.constant(\"caption\"))\n",
        "# Decode and print the generated caption\n",
        "print(\"Caption:\", caption.numpy().decode(\"utf-8\"))"
      ],
      "metadata": {
        "id": "rG-ttfD9XWSk"
      },
      "execution_count": null,
      "outputs": []
    },
    {
      "cell_type": "markdown",
      "source": [
        "## Generate a summary of an image using BLIP pretrained model\n",
        "\n",
        "- Use the image_path variable given below to load the image. Run the cell before proceeding to next step.\n",
        "- Use the `generate_text` function to generate a caption for the image.\n",
        "- Use the example given in `2.2 Generating Captions and Summaries` for this task"
      ],
      "metadata": {
        "id": "0tawtU7QOBp9"
      }
    },
    {
      "cell_type": "code",
      "source": [
        "image_path = tf.constant(\"aircraft_damage_dataset_v1/test/dent/149_22_JPG_jpg.rf.4899cbb6f4aad9588fa3811bb886c34d.jpg\")  # actual path of image"
      ],
      "metadata": {
        "id": "2SVbwvJlXgQ2"
      },
      "execution_count": null,
      "outputs": []
    },
    {
      "cell_type": "code",
      "source": [
        "# Generate a caption for the image\n",
        "caption = generate_text(image_path, tf.constant(\"caption\"))\n",
        "# Decode and print the generated caption\n",
        "print(\"Caption:\", caption.numpy().decode(\"utf-8\"))"
      ],
      "metadata": {
        "id": "1FnyEn-hOFaR"
      },
      "execution_count": null,
      "outputs": []
    },
    {
      "cell_type": "code",
      "source": [],
      "metadata": {
        "id": "ORw65jPVOHBa"
      },
      "execution_count": null,
      "outputs": []
    }
  ]
}