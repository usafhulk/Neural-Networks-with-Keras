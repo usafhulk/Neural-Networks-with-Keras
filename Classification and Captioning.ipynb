{
 "cells": [
  {
   "cell_type": "code",
   "execution_count": 2,
   "metadata": {
    "id": "l15URzqUE1Ac"
   },
   "outputs": [],
   "source": [
    "import warnings\n",
    "warnings.filterwarnings('ignore')"
   ]
  },
  {
   "cell_type": "code",
   "execution_count": 3,
   "metadata": {
    "id": "N2Th76_uE12R"
   },
   "outputs": [],
   "source": [
    "import os\n",
    "os.environ['TF_ENABLE_ONEDNN_OPTS'] = '0'\n",
    "os.environ['TF_CPP_MIN_LOG_LEVEL'] = '2'"
   ]
  },
  {
   "cell_type": "code",
   "execution_count": 4,
   "metadata": {
    "editable": true,
    "scrolled": true,
    "slideshow": {
     "slide_type": ""
    },
    "tags": []
   },
   "outputs": [
    {
     "name": "stdout",
     "output_type": "stream",
     "text": [
      "Requirement already satisfied: pandas==2.2.3 in c:\\users\\chris\\anaconda3\\lib\\site-packages (2.2.3)\n",
      "Requirement already satisfied: numpy>=1.26.0 in c:\\users\\chris\\anaconda3\\lib\\site-packages (from pandas==2.2.3) (1.26.4)\n",
      "Requirement already satisfied: python-dateutil>=2.8.2 in c:\\users\\chris\\anaconda3\\lib\\site-packages (from pandas==2.2.3) (2.9.0.post0)\n",
      "Requirement already satisfied: pytz>=2020.1 in c:\\users\\chris\\anaconda3\\lib\\site-packages (from pandas==2.2.3) (2024.1)\n",
      "Requirement already satisfied: tzdata>=2022.7 in c:\\users\\chris\\anaconda3\\lib\\site-packages (from pandas==2.2.3) (2023.3)\n",
      "Requirement already satisfied: six>=1.5 in c:\\users\\chris\\anaconda3\\lib\\site-packages (from python-dateutil>=2.8.2->pandas==2.2.3) (1.16.0)\n",
      "Requirement already satisfied: tensorflow==2.17.1 in c:\\users\\chris\\anaconda3\\lib\\site-packages (2.17.1)\n",
      "Requirement already satisfied: tensorflow-intel==2.17.1 in c:\\users\\chris\\anaconda3\\lib\\site-packages (from tensorflow==2.17.1) (2.17.1)\n",
      "Requirement already satisfied: absl-py>=1.0.0 in c:\\users\\chris\\anaconda3\\lib\\site-packages (from tensorflow-intel==2.17.1->tensorflow==2.17.1) (2.2.2)\n",
      "Requirement already satisfied: astunparse>=1.6.0 in c:\\users\\chris\\anaconda3\\lib\\site-packages (from tensorflow-intel==2.17.1->tensorflow==2.17.1) (1.6.3)\n",
      "Requirement already satisfied: flatbuffers>=24.3.25 in c:\\users\\chris\\anaconda3\\lib\\site-packages (from tensorflow-intel==2.17.1->tensorflow==2.17.1) (25.2.10)\n",
      "Requirement already satisfied: gast!=0.5.0,!=0.5.1,!=0.5.2,>=0.2.1 in c:\\users\\chris\\anaconda3\\lib\\site-packages (from tensorflow-intel==2.17.1->tensorflow==2.17.1) (0.6.0)\n",
      "Requirement already satisfied: google-pasta>=0.1.1 in c:\\users\\chris\\anaconda3\\lib\\site-packages (from tensorflow-intel==2.17.1->tensorflow==2.17.1) (0.2.0)\n",
      "Requirement already satisfied: h5py>=3.10.0 in c:\\users\\chris\\anaconda3\\lib\\site-packages (from tensorflow-intel==2.17.1->tensorflow==2.17.1) (3.11.0)\n",
      "Requirement already satisfied: libclang>=13.0.0 in c:\\users\\chris\\anaconda3\\lib\\site-packages (from tensorflow-intel==2.17.1->tensorflow==2.17.1) (18.1.1)\n",
      "Requirement already satisfied: ml-dtypes<0.5.0,>=0.3.1 in c:\\users\\chris\\anaconda3\\lib\\site-packages (from tensorflow-intel==2.17.1->tensorflow==2.17.1) (0.4.1)\n",
      "Requirement already satisfied: opt-einsum>=2.3.2 in c:\\users\\chris\\anaconda3\\lib\\site-packages (from tensorflow-intel==2.17.1->tensorflow==2.17.1) (3.4.0)\n",
      "Requirement already satisfied: packaging in c:\\users\\chris\\anaconda3\\lib\\site-packages (from tensorflow-intel==2.17.1->tensorflow==2.17.1) (24.1)\n",
      "Requirement already satisfied: protobuf!=4.21.0,!=4.21.1,!=4.21.2,!=4.21.3,!=4.21.4,!=4.21.5,<5.0.0dev,>=3.20.3 in c:\\users\\chris\\anaconda3\\lib\\site-packages (from tensorflow-intel==2.17.1->tensorflow==2.17.1) (4.25.3)\n",
      "Requirement already satisfied: requests<3,>=2.21.0 in c:\\users\\chris\\anaconda3\\lib\\site-packages (from tensorflow-intel==2.17.1->tensorflow==2.17.1) (2.32.3)\n",
      "Requirement already satisfied: setuptools in c:\\users\\chris\\anaconda3\\lib\\site-packages (from tensorflow-intel==2.17.1->tensorflow==2.17.1) (75.1.0)\n",
      "Requirement already satisfied: six>=1.12.0 in c:\\users\\chris\\anaconda3\\lib\\site-packages (from tensorflow-intel==2.17.1->tensorflow==2.17.1) (1.16.0)\n",
      "Requirement already satisfied: termcolor>=1.1.0 in c:\\users\\chris\\anaconda3\\lib\\site-packages (from tensorflow-intel==2.17.1->tensorflow==2.17.1) (3.1.0)\n",
      "Requirement already satisfied: typing-extensions>=3.6.6 in c:\\users\\chris\\anaconda3\\lib\\site-packages (from tensorflow-intel==2.17.1->tensorflow==2.17.1) (4.11.0)\n",
      "Requirement already satisfied: wrapt>=1.11.0 in c:\\users\\chris\\anaconda3\\lib\\site-packages (from tensorflow-intel==2.17.1->tensorflow==2.17.1) (1.14.1)\n",
      "Requirement already satisfied: grpcio<2.0,>=1.24.3 in c:\\users\\chris\\anaconda3\\lib\\site-packages (from tensorflow-intel==2.17.1->tensorflow==2.17.1) (1.71.0)\n",
      "Requirement already satisfied: tensorboard<2.18,>=2.17 in c:\\users\\chris\\anaconda3\\lib\\site-packages (from tensorflow-intel==2.17.1->tensorflow==2.17.1) (2.17.1)\n",
      "Requirement already satisfied: keras>=3.2.0 in c:\\users\\chris\\anaconda3\\lib\\site-packages (from tensorflow-intel==2.17.1->tensorflow==2.17.1) (3.9.2)\n",
      "Requirement already satisfied: numpy<2.0.0,>=1.26.0 in c:\\users\\chris\\anaconda3\\lib\\site-packages (from tensorflow-intel==2.17.1->tensorflow==2.17.1) (1.26.4)\n",
      "Requirement already satisfied: wheel<1.0,>=0.23.0 in c:\\users\\chris\\anaconda3\\lib\\site-packages (from astunparse>=1.6.0->tensorflow-intel==2.17.1->tensorflow==2.17.1) (0.44.0)\n",
      "Requirement already satisfied: rich in c:\\users\\chris\\anaconda3\\lib\\site-packages (from keras>=3.2.0->tensorflow-intel==2.17.1->tensorflow==2.17.1) (13.7.1)\n",
      "Requirement already satisfied: namex in c:\\users\\chris\\anaconda3\\lib\\site-packages (from keras>=3.2.0->tensorflow-intel==2.17.1->tensorflow==2.17.1) (0.0.9)\n",
      "Requirement already satisfied: optree in c:\\users\\chris\\anaconda3\\lib\\site-packages (from keras>=3.2.0->tensorflow-intel==2.17.1->tensorflow==2.17.1) (0.15.0)\n",
      "Requirement already satisfied: charset-normalizer<4,>=2 in c:\\users\\chris\\anaconda3\\lib\\site-packages (from requests<3,>=2.21.0->tensorflow-intel==2.17.1->tensorflow==2.17.1) (3.3.2)\n",
      "Requirement already satisfied: idna<4,>=2.5 in c:\\users\\chris\\anaconda3\\lib\\site-packages (from requests<3,>=2.21.0->tensorflow-intel==2.17.1->tensorflow==2.17.1) (3.7)\n",
      "Requirement already satisfied: urllib3<3,>=1.21.1 in c:\\users\\chris\\anaconda3\\lib\\site-packages (from requests<3,>=2.21.0->tensorflow-intel==2.17.1->tensorflow==2.17.1) (2.2.3)\n",
      "Requirement already satisfied: certifi>=2017.4.17 in c:\\users\\chris\\anaconda3\\lib\\site-packages (from requests<3,>=2.21.0->tensorflow-intel==2.17.1->tensorflow==2.17.1) (2025.1.31)\n",
      "Requirement already satisfied: markdown>=2.6.8 in c:\\users\\chris\\anaconda3\\lib\\site-packages (from tensorboard<2.18,>=2.17->tensorflow-intel==2.17.1->tensorflow==2.17.1) (3.4.1)\n",
      "Requirement already satisfied: tensorboard-data-server<0.8.0,>=0.7.0 in c:\\users\\chris\\anaconda3\\lib\\site-packages (from tensorboard<2.18,>=2.17->tensorflow-intel==2.17.1->tensorflow==2.17.1) (0.7.2)\n",
      "Requirement already satisfied: werkzeug>=1.0.1 in c:\\users\\chris\\anaconda3\\lib\\site-packages (from tensorboard<2.18,>=2.17->tensorflow-intel==2.17.1->tensorflow==2.17.1) (3.0.3)\n",
      "Requirement already satisfied: MarkupSafe>=2.1.1 in c:\\users\\chris\\anaconda3\\lib\\site-packages (from werkzeug>=1.0.1->tensorboard<2.18,>=2.17->tensorflow-intel==2.17.1->tensorflow==2.17.1) (2.1.3)\n",
      "Requirement already satisfied: markdown-it-py>=2.2.0 in c:\\users\\chris\\anaconda3\\lib\\site-packages (from rich->keras>=3.2.0->tensorflow-intel==2.17.1->tensorflow==2.17.1) (2.2.0)\n",
      "Requirement already satisfied: pygments<3.0.0,>=2.13.0 in c:\\users\\chris\\anaconda3\\lib\\site-packages (from rich->keras>=3.2.0->tensorflow-intel==2.17.1->tensorflow==2.17.1) (2.15.1)\n",
      "Requirement already satisfied: mdurl~=0.1 in c:\\users\\chris\\anaconda3\\lib\\site-packages (from markdown-it-py>=2.2.0->rich->keras>=3.2.0->tensorflow-intel==2.17.1->tensorflow==2.17.1) (0.1.0)\n",
      "Requirement already satisfied: pillow==11.1.0 in c:\\users\\chris\\anaconda3\\lib\\site-packages (11.1.0)\n",
      "Requirement already satisfied: matplotlib==3.9.2 in c:\\users\\chris\\anaconda3\\lib\\site-packages (3.9.2)\n",
      "Requirement already satisfied: contourpy>=1.0.1 in c:\\users\\chris\\anaconda3\\lib\\site-packages (from matplotlib==3.9.2) (1.2.0)\n",
      "Requirement already satisfied: cycler>=0.10 in c:\\users\\chris\\anaconda3\\lib\\site-packages (from matplotlib==3.9.2) (0.11.0)\n",
      "Requirement already satisfied: fonttools>=4.22.0 in c:\\users\\chris\\anaconda3\\lib\\site-packages (from matplotlib==3.9.2) (4.51.0)\n",
      "Requirement already satisfied: kiwisolver>=1.3.1 in c:\\users\\chris\\anaconda3\\lib\\site-packages (from matplotlib==3.9.2) (1.4.4)\n",
      "Requirement already satisfied: numpy>=1.23 in c:\\users\\chris\\anaconda3\\lib\\site-packages (from matplotlib==3.9.2) (1.26.4)\n",
      "Requirement already satisfied: packaging>=20.0 in c:\\users\\chris\\anaconda3\\lib\\site-packages (from matplotlib==3.9.2) (24.1)\n",
      "Requirement already satisfied: pillow>=8 in c:\\users\\chris\\anaconda3\\lib\\site-packages (from matplotlib==3.9.2) (11.1.0)\n",
      "Requirement already satisfied: pyparsing>=2.3.1 in c:\\users\\chris\\anaconda3\\lib\\site-packages (from matplotlib==3.9.2) (3.1.2)\n",
      "Requirement already satisfied: python-dateutil>=2.7 in c:\\users\\chris\\anaconda3\\lib\\site-packages (from matplotlib==3.9.2) (2.9.0.post0)\n",
      "Requirement already satisfied: six>=1.5 in c:\\users\\chris\\anaconda3\\lib\\site-packages (from python-dateutil>=2.7->matplotlib==3.9.2) (1.16.0)\n",
      "Requirement already satisfied: transformers==4.38.2 in c:\\users\\chris\\anaconda3\\lib\\site-packages (4.38.2)\n",
      "Requirement already satisfied: filelock in c:\\users\\chris\\anaconda3\\lib\\site-packages (from transformers==4.38.2) (3.13.1)\n",
      "Requirement already satisfied: huggingface-hub<1.0,>=0.19.3 in c:\\users\\chris\\anaconda3\\lib\\site-packages (from transformers==4.38.2) (0.28.1)\n",
      "Requirement already satisfied: numpy>=1.17 in c:\\users\\chris\\anaconda3\\lib\\site-packages (from transformers==4.38.2) (1.26.4)\n",
      "Requirement already satisfied: packaging>=20.0 in c:\\users\\chris\\anaconda3\\lib\\site-packages (from transformers==4.38.2) (24.1)\n",
      "Requirement already satisfied: pyyaml>=5.1 in c:\\users\\chris\\anaconda3\\lib\\site-packages (from transformers==4.38.2) (6.0.1)\n",
      "Requirement already satisfied: regex!=2019.12.17 in c:\\users\\chris\\anaconda3\\lib\\site-packages (from transformers==4.38.2) (2024.9.11)\n",
      "Requirement already satisfied: requests in c:\\users\\chris\\anaconda3\\lib\\site-packages (from transformers==4.38.2) (2.32.3)\n",
      "Requirement already satisfied: tokenizers<0.19,>=0.14 in c:\\users\\chris\\anaconda3\\lib\\site-packages (from transformers==4.38.2) (0.15.2)\n",
      "Requirement already satisfied: safetensors>=0.4.1 in c:\\users\\chris\\anaconda3\\lib\\site-packages (from transformers==4.38.2) (0.5.2)\n",
      "Requirement already satisfied: tqdm>=4.27 in c:\\users\\chris\\anaconda3\\lib\\site-packages (from transformers==4.38.2) (4.66.5)\n",
      "Requirement already satisfied: fsspec>=2023.5.0 in c:\\users\\chris\\anaconda3\\lib\\site-packages (from huggingface-hub<1.0,>=0.19.3->transformers==4.38.2) (2024.6.1)\n",
      "Requirement already satisfied: typing-extensions>=3.7.4.3 in c:\\users\\chris\\anaconda3\\lib\\site-packages (from huggingface-hub<1.0,>=0.19.3->transformers==4.38.2) (4.11.0)\n",
      "Requirement already satisfied: colorama in c:\\users\\chris\\anaconda3\\lib\\site-packages (from tqdm>=4.27->transformers==4.38.2) (0.4.6)\n",
      "Requirement already satisfied: charset-normalizer<4,>=2 in c:\\users\\chris\\anaconda3\\lib\\site-packages (from requests->transformers==4.38.2) (3.3.2)\n",
      "Requirement already satisfied: idna<4,>=2.5 in c:\\users\\chris\\anaconda3\\lib\\site-packages (from requests->transformers==4.38.2) (3.7)\n",
      "Requirement already satisfied: urllib3<3,>=1.21.1 in c:\\users\\chris\\anaconda3\\lib\\site-packages (from requests->transformers==4.38.2) (2.2.3)\n",
      "Requirement already satisfied: certifi>=2017.4.17 in c:\\users\\chris\\anaconda3\\lib\\site-packages (from requests->transformers==4.38.2) (2025.1.31)\n",
      "Requirement already satisfied: torch in c:\\users\\chris\\anaconda3\\lib\\site-packages (2.6.0)\n",
      "Requirement already satisfied: filelock in c:\\users\\chris\\anaconda3\\lib\\site-packages (from torch) (3.13.1)\n",
      "Requirement already satisfied: typing-extensions>=4.10.0 in c:\\users\\chris\\anaconda3\\lib\\site-packages (from torch) (4.11.0)\n",
      "Requirement already satisfied: networkx in c:\\users\\chris\\anaconda3\\lib\\site-packages (from torch) (3.3)\n",
      "Requirement already satisfied: jinja2 in c:\\users\\chris\\anaconda3\\lib\\site-packages (from torch) (3.1.4)\n",
      "Requirement already satisfied: fsspec in c:\\users\\chris\\anaconda3\\lib\\site-packages (from torch) (2024.6.1)\n",
      "Requirement already satisfied: setuptools in c:\\users\\chris\\anaconda3\\lib\\site-packages (from torch) (75.1.0)\n",
      "Requirement already satisfied: sympy==1.13.1 in c:\\users\\chris\\anaconda3\\lib\\site-packages (from torch) (1.13.1)\n",
      "Requirement already satisfied: mpmath<1.4,>=1.1.0 in c:\\users\\chris\\anaconda3\\lib\\site-packages (from sympy==1.13.1->torch) (1.3.0)\n",
      "Requirement already satisfied: MarkupSafe>=2.0 in c:\\users\\chris\\anaconda3\\lib\\site-packages (from jinja2->torch) (2.1.3)\n"
     ]
    }
   ],
   "source": [
    "!pip install pandas==2.2.3\n",
    "!pip install tensorflow==2.17.1\n",
    "!pip install pillow==11.1.0\n",
    "!pip install matplotlib==3.9.2\n",
    "!pip install transformers==4.38.2\n",
    "!pip install torch"
   ]
  },
  {
   "cell_type": "code",
   "execution_count": 5,
   "metadata": {
    "id": "Jd0EKRQfE3tn"
   },
   "outputs": [],
   "source": [
    "import zipfile\n",
    "import keras\n",
    "from keras.models import Sequential, Model\n",
    "from keras.layers import Dense, Dropout, Flatten\n",
    "from keras.applications import VGG16\n",
    "from keras.optimizers import Adam\n",
    "import tensorflow as tf\n",
    "from tensorflow.keras.preprocessing.image import ImageDataGenerator\n",
    "import matplotlib.pyplot as plt\n",
    "import numpy as np\n",
    "from keras.preprocessing import image\n",
    "import random"
   ]
  },
  {
   "cell_type": "code",
   "execution_count": 6,
   "metadata": {
    "id": "PduMrEddE5ZP"
   },
   "outputs": [],
   "source": [
    "# Set seed for reproducibility\n",
    "seed_value = 42\n",
    "random.seed(seed_value)\n",
    "np.random.seed(seed_value)\n",
    "tf.random.set_seed(seed_value)"
   ]
  },
  {
   "cell_type": "markdown",
   "metadata": {
    "id": "5bgIo-JtGtFB"
   },
   "source": [
    "# Part 1: Classifying the Problem"
   ]
  },
  {
   "cell_type": "markdown",
   "metadata": {
    "id": "46lz1dacGzKA"
   },
   "source": [
    "#### 1.1 Dataset Preperation"
   ]
  },
  {
   "cell_type": "code",
   "execution_count": 7,
   "metadata": {
    "id": "eo7-NoGnFI-F"
   },
   "outputs": [],
   "source": [
    "#Set the batch size,epochs\n",
    "batch_size = 32\n",
    "n_epochs = 5\n",
    "img_rows, img_cols = 224, 224\n",
    "input_shape = (img_rows, img_cols, 3)"
   ]
  },
  {
   "cell_type": "code",
   "execution_count": 11,
   "metadata": {},
   "outputs": [
    {
     "name": "stdout",
     "output_type": "stream",
     "text": [
      "Found tar file at C:\\Users\\Chris\\OneDrive - SNHU\\IBM AI Engineering\\Jupyter Notebooks\\Course 2 Deep Learing and Neural Networks with Keras\\aircraft_damage_dataset_v1.tar. Extraction will begin now.\n",
      "The folder 'aircraft_damage_dataset_v1' already exists. Removing it safely.\n",
      "Error deleting/modifying: aircraft_damage_dataset_v1 - [WinError 5] Access is denied: 'aircraft_damage_dataset_v1'\n",
      "Removed the existing folder: aircraft_damage_dataset_v1\n",
      "Error during extraction: [Errno 2] No such file or directory: '.\\\\aircraft_damage_dataset_v1\\\\train\\\\crack\\\\a0a6a9bd_342e_49c8_bb81_aff34c1884b4_f8fafc9e14d78d749effcce0bb27c750ae0bce11-1-_jpeg_jpg.rf.936568ae39225cedc41b43f638fca195.jpg'\n"
     ]
    }
   ],
   "source": [
    "import tarfile\n",
    "import os\n",
    "import shutil\n",
    "import stat  # For changing file attributes\n",
    "\n",
    "# Local file paths\n",
    "filepath = r\"C:\\Users\\Chris\\OneDrive\\IBM AI Engineering\\Jupyter Notebooks\\Course 2 Deep Learing and Neural Networks with Keras\\dataset_url.txt\"\n",
    "tar_filepath = r\"C:\\Users\\Chris\\OneDrive - SNHU\\IBM AI Engineering\\Jupyter Notebooks\\Course 2 Deep Learing and Neural Networks with Keras\\aircraft_damage_dataset_v1.tar\"\n",
    "extracted_folder = \"aircraft_damage_dataset_v1\"  # Folder where contents will be extracted\n",
    "\n",
    "\n",
    "def remove_readonly_and_delete(path):\n",
    "    \"\"\"Recursively removes the Read-only attribute and then deletes the directory/file.\"\"\"\n",
    "    try:\n",
    "        if os.path.isdir(path):\n",
    "            for root, dirs, files in os.walk(path):\n",
    "                for d in dirs:\n",
    "                    full_path = os.path.join(root, d)\n",
    "                    os.chmod(full_path, stat.S_IWRITE)  # Remove Read-only attribute\n",
    "                for f in files:\n",
    "                    full_path = os.path.join(root, f)\n",
    "                    os.chmod(full_path, stat.S_IWRITE)  # Remove Read-only attribute\n",
    "            shutil.rmtree(path)  # Try deleting the directory\n",
    "        elif os.path.exists(path):\n",
    "            os.chmod(path, stat.S_IWRITE)  # Remove Read-only attribute\n",
    "            os.remove(path)\n",
    "    except Exception as e:\n",
    "        print(f\"Error deleting/modifying: {path} - {e}\")\n",
    "\n",
    "\n",
    "# Read the URL from the text file\n",
    "with open(filepath, 'r') as file:\n",
    "    url = file.read().strip()\n",
    "\n",
    "# Check if the tar file exists locally\n",
    "if not os.path.exists(tar_filepath):\n",
    "    print(f\"Error: Tar file not found at {tar_filepath}\")\n",
    "    exit()\n",
    "\n",
    "print(f\"Found tar file at {tar_filepath}. Extraction will begin now.\")\n",
    "\n",
    "# Check if the folder already exists and remove it safely\n",
    "if os.path.exists(extracted_folder):\n",
    "    print(f\"The folder '{extracted_folder}' already exists. Removing it safely.\")\n",
    "    remove_readonly_and_delete(extracted_folder)\n",
    "    print(f\"Removed the existing folder: {extracted_folder}\")\n",
    "\n",
    "# Extract the contents of the tar file\n",
    "try:\n",
    "    with tarfile.open(tar_filepath, \"r\") as tar_ref:\n",
    "        tar_ref.extractall()  # This will extract to the current directory\n",
    "    print(f\"Extracted {tar_filepath} successfully.\")\n",
    "except Exception as e:\n",
    "    print(f\"Error during extraction: {e}\")"
   ]
  },
  {
   "cell_type": "code",
   "execution_count": 12,
   "metadata": {
    "id": "au9KiBH2FWD_",
    "scrolled": true
   },
   "outputs": [
    {
     "name": "stdout",
     "output_type": "stream",
     "text": [
      "aircraft_damage_dataset_v1/\n",
      "    test/\n",
      "        crack/\n",
      "            101_1_JPG_jpg.rf.695bc0b3ba5ada38ee27d71dbacaf408.jpg\n",
      "            103_6_JPG_jpg.rf.cbca4aacf826003ef682dc96f1dcbd4e.jpg\n",
      "            104_16_JPG_jpg.rf.2c23b11777e1fbd5881eb06614f0d8b4.jpg\n",
      "            105_22_JPG_jpg.rf.91531fce9d13ea5c9743426e43880986.jpg\n",
      "            109_1_JPG_jpg.rf.e4846d98df8f2dbd7e98bad3c56e9bcb.jpg\n",
      "            110_24_JPG_jpg.rf.5f5fb2963645a85c655c5492c0d5096a.jpg\n",
      "            113_6_JPG_jpg.rf.c578c9850bdfe12f3941b0f53d35f419.jpg\n",
      "            130_3_JPG_jpg.rf.cde17ae5dab82b38b9cd5634935e35d2.jpg\n",
      "            130_7_JPG_jpg.rf.bc87b168142d43574d6b666d553f4761.jpg\n",
      "            140_1_JPG_jpg.rf.783ec2a489ddc3692ef15efcb14436c6.jpg\n",
      "            143_0_JPG_jpg.rf.6a95ea163581ec7c566872f750ee120e.jpg\n",
      "            144_16_JPG_jpg.rf.547306a019ec79eae9c7ba648f0de46a.jpg\n",
      "            145_4_JPG_jpg.rf.c24479fe868d62e5efe987e248c2b1af.jpg\n",
      "            146_8_JPG_jpg.rf.e162c4a1747ab4f757124d7fe5b4d805.jpg\n",
      "            147_21_JPG_jpg.rf.4a2f51b2528b8248ac03c472db85394a.jpg\n",
      "            147_2_JPG_jpg.rf.802b0015783a68295804fba0280b0917.jpg\n",
      "            14_23_JPG_jpg.rf.b7dbf66f2939f210dcf0bcbd1d814e8f.jpg\n",
      "            150_7_JPG_jpg.rf.5c8caa876dd7a868523eadd51317e8bc.jpg\n",
      "            157_19_JPG_jpg.rf.ecf121ab0af548f7f7a5d35019aec573.jpg\n",
      "            158_24_JPG_jpg.rf.548c65fc199c9888ceb4164fbac1e785.jpg\n",
      "            162_22_JPG_jpg.rf.e6255f348691910a58c3e321b687a32d.jpg\n",
      "            164_0_JPG_jpg.rf.059d16e63e2619b7bbf2ed294821089f.jpg\n",
      "            47_18_JPG_jpg.rf.397ab323d58fe27910299d792bc61830.jpg\n",
      "            47_6_JPG_jpg.rf.f806f6f7dd3487c687b6530e588a8618.jpg\n",
      "            81_3_JPG_jpg.rf.b34336e2de0ac0270ec1476e8204fa00.jpg\n",
      "        dent/\n",
      "            100_12_JPG_jpg.rf.c9eba14c33080322c8039295a4564509.jpg\n",
      "            100_6_JPG_jpg.rf.5735b6c11e91aeff859f3d34fd772ddb.jpg\n",
      "            105_3_JPG_jpg.rf.f410c0d6b274a5c73623651c30e32e35.jpg\n",
      "            134_11_JPG_jpg.rf.8483e7d113ce9487a48dc13419dff292.jpg\n",
      "            135_4_JPG_jpg.rf.7145e74e4655919b4bc24c9648592e32.jpg\n",
      "            136_14_JPG_jpg.rf.ebc6db2f4244eb3f538fc7d8f22af435.jpg\n",
      "            136_15_JPG_jpg.rf.35554276cb237619af1cf7fb465e3f46.jpg\n",
      "            136_20_JPG_jpg.rf.e13ff88f88a3dbf20345eae5eeeb6bb4.jpg\n",
      "            143_13_JPG_jpg.rf.29ff136584e5e0cc50f837396e6995a2.jpg\n",
      "            144_10_JPG_jpg.rf.4d008cc33e217c1606b76585469d626b.jpg\n",
      "            145_21_JPG_jpg.rf.d2d9d14202775dd0f28a3db931ae057e.jpg\n",
      "            146_21_JPG_jpg.rf.62814adf2e016eb273290756cff2e993.jpg\n",
      "            146_24_JPG_jpg.rf.5ba010de4a4a48e8b3a21c661c3bb6a4.jpg\n",
      "            148_1_JPG_jpg.rf.28b72de8fd57df5bd56b19dd06b0b61c.jpg\n",
      "            149_10_JPG_jpg.rf.844c798f0abf58d2c77b3bf78c88e478.jpg\n",
      "            149_22_JPG_jpg.rf.4899cbb6f4aad9588fa3811bb886c34d.jpg\n",
      "            151_24_JPG_jpg.rf.8e7b0f67da38bf329a56fc46fd34f92f.jpg\n",
      "            151_25_JPG_jpg.rf.ae27b09909820740a74ef8747820fde6.jpg\n",
      "            151_3_JPG_jpg.rf.9bd68d33951da927be018c23bbf3760a.jpg\n",
      "            152_1_JPG_jpg.rf.c29e17e6a259f691c2786151b952ef21.jpg\n",
      "            154_8_JPG_jpg.rf.b1f70e012515aa49e1d965b92198be63.jpg\n",
      "            156_19_JPG_jpg.rf.ce86a8763333f7a0736a24f0537c38a3.jpg\n",
      "            161_6_JPG_jpg.rf.4ade35715c20be78546832880ae2bed7.jpg\n",
      "            17_16_JPG_jpg.rf.1bbfc7fc59a41c5e6a70a5628fe55310.jpg\n",
      "            213_1_JPG_jpg.rf.a38a31b48f2206fbf7f0cf5e49736dc7.jpg\n",
      "    train/\n",
      "        crack/\n",
      "            101_0_JPG_jpg.rf.869772d88eaee56c3714cba2fc4d5133.jpg\n",
      "            101_21_JPG_jpg.rf.9bd28bd0bc85755ef783964fb9517469.jpg\n",
      "            101_2_JPG_jpg.rf.b8a63ca972d10717fb9b53307651cd26.jpg\n",
      "            1020171150b_jpg.rf.1d3b99c6b1bb928c29b7b6ebcde43836.jpg\n",
      "            1020171150b_jpg.rf.486edf049e7ba562c99105430b45432d.jpg\n",
      "            102_3_JPG_jpg.rf.ffa8c65c4fef0b9f10fee091d8e8ef7e.jpg\n",
      "            103_11_JPG_jpg.rf.53a13a59e384cde51b621dc2e21940e3.jpg\n",
      "            103_11_JPG_jpg.rf.60b6f369215d018fb1fdfd2f69f385ca.jpg\n",
      "            103_3_JPG_jpg.rf.7f1d04893f57e9c43aa1e7adfd2b7e92.jpg\n",
      "            104_2_JPG_jpg.rf.26833e312a1c5e0178f1d5d47042ccb0.jpg\n",
      "            104_5_JPG_jpg.rf.f7f628934f4101c0064314428a9f5dd0.jpg\n",
      "            106_24_JPG_jpg.rf.4dc1a246884649c70dd2722ed527d07f.jpg\n",
      "            107_11_JPG_jpg.rf.d7de5d0ec93597a0cb519b4a447715a7.jpg\n",
      "            107_14_JPG_jpg.rf.37cbffeaaa87c90db303f21fdafdd938.jpg\n",
      "            107_15_JPG_jpg.rf.39a565dfa2fdc925c668e4870eccbf34.jpg\n",
      "            109_20_JPG_jpg.rf.d23b432a070728272b6b838cd04f5699.jpg\n",
      "            114_6_JPG_jpg.rf.60fd84740b6a6c3e904e57fecc96d129.jpg\n",
      "            140_0_JPG_jpg.rf.3be3389c340e1237a20685406ba6dff8.jpg\n",
      "            140_11_JPG_jpg.rf.3d1e42499ba6bcdd6424aaf10d81df30.jpg\n",
      "            140_18_JPG_jpg.rf.48ff1b908faf11173f126ea9a02fa031.jpg\n",
      "            140_25_JPG_jpg.rf.c8249ae44808b01ec3242308a424d2d7.jpg\n",
      "            143_10_JPG_jpg.rf.ea6a5018d8bc613ce20b7dcc0c1cfa38.jpg\n",
      "            143_19_JPG_jpg.rf.06f07b7b096b846ca3c7a7a6367533b6.jpg\n",
      "            143_24_JPG_jpg.rf.98f7be98e63058e43fe34ab1d4701f25.jpg\n",
      "            143_2_JPG_jpg.rf.f743a307b590a32800cb0a40e6e48a81.jpg\n",
      "            144_11_JPG_jpg.rf.d21f65a0e1fbc3bb07f0afbf10a2bdaf.jpg\n",
      "            145_11_JPG_jpg.rf.0e97037d276ae7e21f7e384d38bffae5.jpg\n",
      "            145_12_JPG_jpg.rf.f705a394dcbb3021e8b59e776169fb96.jpg\n",
      "            145_3_JPG_jpg.rf.f031c3493f10a0a0019bd8e8a5ae9678.jpg\n",
      "            145_9_JPG_jpg.rf.e9b0d6a348721d00e41018303c898975.jpg\n",
      "            147_17_JPG_jpg.rf.a972c60a0f19b0892e62bface97a971e.jpg\n",
      "            150_0_JPG_jpg.rf.673f137cc08761cb07d8e5260c7bf135.jpg\n",
      "            150_17_JPG_jpg.rf.9d30eba2c29855d508b4af4f62f4daec.jpg\n",
      "            155_11_JPG_jpg.rf.284944a401f3dd7ec847ad014da9c330.jpg\n",
      "            157_0_JPG_jpg.rf.26934ad395ef803dd1518b1ecb700b67.jpg\n",
      "            157_13_JPG_jpg.rf.f29914ee4ddcfb43d3671168f3c5a32d.jpg\n",
      "            157_2_JPG_jpg.rf.06554f65594b44c50d40109c6860314b.jpg\n",
      "            162_13_JPG_jpg.rf.cf621bab913c976ae4fdc567d688b12e.jpg\n",
      "            162_2_JPG_jpg.rf.a0cf3e74bcec5bc8c9f556329df7b0a5.jpg\n",
      "            162_6_JPG_jpg.rf.edae0548f96e47480fe9949a8aa43df3.jpg\n",
      "            165_0_JPG_jpg.rf.41994b2f8c61ccd01bac1c571bbf1a16.jpg\n",
      "            165_23_JPG_jpg.rf.1c7ba4dd338d9e6352dd30c073959cf7.jpg\n",
      "            167_1_JPG_jpg.rf.c7ef8c8da7c2b5f2374bfff8badd7ee9.jpg\n",
      "            168_14_JPG_jpg.rf.2ece07864d8fbbf76230457cf20a405d.jpg\n",
      "            168_22_JPG_jpg.rf.d8b5319496fcac22e5d44f92a7f5b05a.jpg\n",
      "            168_24_JPG_jpg.rf.4dcac6193b098e3a622ff039b05bfc1b.jpg\n",
      "            169_13_JPG_jpg.rf.e32b4d0a5c5eb81342ecb5da8d0dd8cd.jpg\n",
      "            169_1_JPG_jpg.rf.c0cf948017cbdc0694a7ce0cc107cb51.jpg\n",
      "            169_21_JPG_jpg.rf.2692115ad4cba4aea896bd395b98b8e6.jpg\n",
      "            169_2_JPG_jpg.rf.458f8e990582e87202acf525d2919ac6.jpg\n",
      "            169_2_JPG_jpg.rf.aa5feb223760ddde3b237d4d5ac6c3fb.jpg\n",
      "            171_17_JPG_jpg.rf.bc5b34025662bec35da1661ffb5c434e.jpg\n",
      "            171_23_JPG_jpg.rf.44da4802415b1671b0fb3314934da7a5.jpg\n",
      "            172_25_JPG_jpg.rf.e5dd31d3532a68ab03772046b1fb81b5.jpg\n",
      "            178_16_JPG_jpg.rf.a4c87b898951ccc08c415e58a965f2c1.jpg\n",
      "            178_19_JPG_jpg.rf.09e75b008f6e57bdcbf09358094e07de.jpg\n",
      "            178_21_JPG_jpg.rf.6eb6bca787ff21d96e1a727c729b713b.jpg\n",
      "            178_24_JPG_jpg.rf.1fed930b8976c7aac1b7eb6414b6eb27.jpg\n",
      "            180_11_JPG_jpg.rf.3e8266bc1564b1f244575df043a5ef85.jpg\n",
      "            180_19_JPG_jpg.rf.96fd93d9b40b52a3b251930ff8837d55.jpg\n",
      "            181_12_JPG_jpg.rf.19da077660527ddf90b1fdf1d028c65f.jpg\n",
      "            182_12_JPG_jpg.rf.5d59aa3eb915282ceef42f52a93eda86.jpg\n",
      "            182_15_JPG_jpg.rf.598562c1ecea45acc085c19a79671f6e.jpg\n",
      "            182_21_JPG_jpg.rf.8c5e3fa60c91f85f9577f822c6c4cf74.jpg\n",
      "            182_23_JPG_jpg.rf.8d151f00665cef9fc67000a25079d288.jpg\n",
      "            185_10_JPG_jpg.rf.8f9eca0cd6e74a6e22a241e1db5c9ee7.jpg\n",
      "            185_1_JPG_jpg.rf.9ebcbd15e7006a32ab0216e694d0ffaf.jpg\n",
      "            185_20_JPG_jpg.rf.f49403acbc7c52581dd0ad08dbdf638c.jpg\n",
      "            185_22_JPG_jpg.rf.7d63b4a4bbde14990c2516dd85249817.jpg\n",
      "            185_2_JPG_jpg.rf.6d86daed81a65805d51fe43cb6a99869.jpg\n",
      "            185_7_JPG_jpg.rf.eef3f950cc4b811d85f368cc92712fc9.jpg\n",
      "            188_24_JPG_jpg.rf.cf39e4080358e8aa56982bc15f77c5d0.jpg\n",
      "            189_12_JPG_jpg.rf.55ae65f8ff698e53e9dc4ea5b394ac1e.jpg\n",
      "            189_16_JPG_jpg.rf.f8cf30de3bdc2e89e8565692a95f6117.jpg\n",
      "            189_17_JPG_jpg.rf.8ceec93b9968d10614ba86a66e3a96f9.jpg\n",
      "            189_21_JPG_jpg.rf.04db6b84e4412aea740f2f3b04cdc6e5.jpg\n",
      "            189_3_JPG_jpg.rf.4971f69ed8dda3e8bae63e82cc0dd226.jpg\n",
      "            189_7_JPG_jpg.rf.5bf25c6d456fda121f5490a55c27c956.jpg\n",
      "            190_9_JPG_jpg.rf.d956233242b9ffdf67f7548c36fdc254.jpg\n",
      "            193_0_JPG_jpg.rf.c52c460bc3307ca5d9c73ab105f40fe7.jpg\n",
      "            193_17_JPG_jpg.rf.86305aacf965deb29459473d37ee3020.jpg\n",
      "            193_19_JPG_jpg.rf.b4650da29624030da00807044497ba8d.jpg\n",
      "            193_21_JPG_jpg.rf.36a6675617d22f047022a56ec5e42498.jpg\n",
      "            193_21_JPG_jpg.rf.9ecc8cbde632c50035a614c9244d17a4.jpg\n",
      "            193_6_JPG_jpg.rf.60e9fa66b9427a56efc58bcdbb96082d.jpg\n",
      "            194_5_JPG_jpg.rf.a3bd4c93bce6411f8c8d17cc6ac168c5.jpg\n",
      "            195_13_JPG_jpg.rf.3d4d594d91245bdfb10024db008261df.jpg\n",
      "            195_13_JPG_jpg.rf.bc4f8f45c548af475114a7ebe2dd4ad5.jpg\n",
      "            195_25_JPG_jpg.rf.d89c96268831a86ce7257841665f2018.jpg\n",
      "            195_6_JPG_jpg.rf.b4f50343ad507154071747932f3043d8.jpg\n",
      "            196_15_JPG_jpg.rf.bd5dc7562aae37e53d6cb6e8d580e5cb.jpg\n",
      "            196_22_JPG_jpg.rf.1b208330a971e9dcd02339f3e541581c.jpg\n",
      "            197_15_JPG_jpg.rf.f76326bd0f8bdc1787c1ddfd6b0931cc.jpg\n",
      "            197_17_JPG_jpg.rf.3bd9b15ebfe365c35f1cddc9a23251f0.jpg\n",
      "            197_23_JPG_jpg.rf.d67420cf49e240b80ef6e6bc0c46ec9f.jpg\n",
      "            197_6_JPG_jpg.rf.1e505c9efe347a4c1dc70b5200af1df7.jpg\n",
      "            197_7_JPG_jpg.rf.2b2c14ca1f4a2df7673bdf8629ccda37.jpg\n",
      "            198_12_JPG_jpg.rf.01e06d1fcc55b5a6b3f53bcef7c5fc4b.jpg\n",
      "            198_1_JPG_jpg.rf.d3ea526ff945d1b332db60e0034759df.jpg\n",
      "            198_8_JPG_jpg.rf.b00ae43f726605040c1e5c1ce097f2f9.jpg\n",
      "            199_12_JPG_jpg.rf.b3e7a7de7aabc0c6588500b352d51db2.jpg\n",
      "            199_13_JPG_jpg.rf.2a2e8ec5ca4071324a6d142268b1b977.jpg\n",
      "            199_24_JPG_jpg.rf.34e30c1444aab1d5a2e2c9bd7933a26c.jpg\n",
      "            20141120_163401_jpg.rf.140d1ccd38cee6499a9d9dfcd0a41362.jpg\n",
      "            20150806_110419_jpg.rf.1ebaa98a7b81635802bf8c6a543b1a51.jpg\n",
      "            201_10_JPG_jpg.rf.4371ad25b3cd80c5b1c30ffcd743ec6f.jpg\n",
      "            201_23_JPG_jpg.rf.4365c41fa4ee7f456e5ba6fe80e30d20.jpg\n",
      "            201_9_JPG_jpg.rf.cd9883479f32de2a030ed1f37e970fd4.jpg\n",
      "            206_24_JPG_jpg.rf.c94e09464c48f18ea6dfa2bd61369166.jpg\n",
      "            206_7_JPG_jpg.rf.228b9c9b56f05b27f76142cfa29b570c.jpg\n",
      "            207_8_JPG_jpg.rf.a6e31fda0ddbf488e2f4c51501c28226.jpg\n",
      "            208_13_JPG_jpg.rf.409527d482ecbbc5db77b9d76af0af40.jpg\n",
      "            208_15_JPG_jpg.rf.68101ae10571ff2bdbf5155bea84a91e.jpg\n",
      "            208_9_JPG_jpg.rf.361632f925afadb84d6d5a29f1fbecb7.jpg\n",
      "            209_20_JPG_jpg.rf.dff880ce7e613c75aa7da74730cd0450.jpg\n",
      "            209_2_JPG_jpg.rf.8b1b35e5d947f83d6985e09312ff8239.jpg\n",
      "            575b4642c16e032caf014cfd1cc1f6a4_jpg.rf.0ff7f287d1415f04e56db5edf6017e78.jpg\n",
      "            575b4642c16e032caf014cfd1cc1f6a4_jpg.rf.ab6cadb9c8d16d7a30f5f6473cabb361.jpg\n",
      "            77_24_JPG_jpg.rf.14bdecffa796dd79f03999b3a2eb4f85.jpg\n",
      "            79_0_JPG_jpg.rf.15173d991f5e3efbf818fe3c1dcc12e3.jpg\n",
      "            79_22_JPG_jpg.rf.ecffa3288dd6cd9c14481fec07526c62.jpg\n",
      "            80_19_JPG_jpg.rf.d365bac33162463f1a9b62134a95ba9b.jpg\n",
      "            86_13_JPG_jpg.rf.c571e53605f3950119e1dfe4cbbae279.jpg\n",
      "            86_22_JPG_jpg.rf.bf35f3536509cb4c2f09520e6d911200.jpg\n",
      "            86_9_JPG_jpg.rf.9bd49a937bb58a197f55afeb1d9d8917.jpg\n",
      "            87_14_JPG_jpg.rf.e5fa212bcfcda717684ce33367bc9802.jpg\n",
      "            87_19_JPG_jpg.rf.7bad40c2a83c9f354c1646cb154d787b.jpg\n",
      "            90_12_JPG_jpg.rf.83b3913299100fab36d6a1f184eaa513.jpg\n",
      "            90_15_JPG_jpg.rf.6fa97ff157c20cdda2647d2efb5fb616.jpg\n",
      "            95_11_JPG_jpg.rf.aee86be14f87e16f0837f3416532b00c.jpg\n",
      "            95_14_JPG_jpg.rf.bad9a9b385847fdb90c30c1d403599a5.jpg\n",
      "            95_22_JPG_jpg.rf.c4acc3c03849326f69dadf0374078c9f.jpg\n",
      "            95_6_JPG_jpg.rf.c5612eadf0a493e1cd95bf76602163fc.jpg\n",
      "            96_6_JPG_jpg.rf.0c3b9a429f5f5ca656f85d03589058ba.jpg\n",
      "            97_13_JPG_jpg.rf.7e95901d2171af0322c526450608ed9d.jpg\n",
      "            97_25_JPG_jpg.rf.ef3c246d89d4f4923c899ecc008d8e9a.jpg\n",
      "            98_12_JPG_jpg.rf.ebe5d24af0c8f691bf3cc4e577a69cf4.jpg\n",
      "            98_20_JPG_jpg.rf.4283d37e1b08cdde3c9a78f9bd0b67cd.jpg\n",
      "            98_25_JPG_jpg.rf.271f2575c68d5ac5dc9d419a9e87a4c2.jpg\n",
      "            98_4_JPG_jpg.rf.2c94d92ac47fc5be70a0e6d9dc0f3854.jpg\n",
      "            99_16_JPG_jpg.rf.46563da80bcfbc637ed50034992902a8.jpg\n"
     ]
    }
   ],
   "source": [
    "# showing the content of the folder\n",
    "\n",
    "import os\n",
    "\n",
    "def print_directory_structure(startpath):\n",
    "    for root, dirs, files in os.walk(startpath):\n",
    "        level = root.replace(startpath, '').count(os.sep)\n",
    "        indent = ' ' * 4 * (level)\n",
    "        print(f'{indent}{os.path.basename(root)}/')\n",
    "        subindent = ' ' * 4 * (level + 1)\n",
    "        for f in files:\n",
    "            print(f'{subindent}{f}')\n",
    "\n",
    "# Assuming 'extracted_folder' holds the name of the extracted dataset directory\n",
    "extracted_folder = \"aircraft_damage_dataset_v1\"\n",
    "print_directory_structure(extracted_folder)"
   ]
  },
  {
   "cell_type": "code",
   "execution_count": 48,
   "metadata": {
    "id": "Wm95BswlFWBh"
   },
   "outputs": [],
   "source": [
    "# Define directories for train, test, and validation splits\n",
    "extract_path = \"aircraft_damage_dataset_v1\"\n",
    "train_dir = os.path.join(extract_path, 'train')\n",
    "test_dir = os.path.join(extract_path, 'test')\n",
    "valid_dir = os.path.join(extract_path, 'valid')\n"
   ]
  },
  {
   "cell_type": "markdown",
   "metadata": {
    "id": "SsobvTaIG5SH"
   },
   "source": [
    "#### 1.2 Data Preprocessing"
   ]
  },
  {
   "cell_type": "code",
   "execution_count": 49,
   "metadata": {
    "id": "hBD5_kEBFV0N"
   },
   "outputs": [],
   "source": [
    "# Create ImageDataGenerators to preprocess the data\n",
    "train_datagen = ImageDataGenerator(rescale=1./255)\n",
    "valid_datagen = ImageDataGenerator(rescale=1./255)\n",
    "test_datagen = ImageDataGenerator(rescale=1./255)"
   ]
  },
  {
   "cell_type": "code",
   "execution_count": 50,
   "metadata": {
    "id": "xb6gQ-5_G-dT"
   },
   "outputs": [
    {
     "name": "stdout",
     "output_type": "stream",
     "text": [
      "Found 141 images belonging to 1 classes.\n"
     ]
    }
   ],
   "source": [
    "train_generator = train_datagen.flow_from_directory(\n",
    "    train_dir,\n",
    "    target_size=(img_rows, img_cols),   # Resize images to the size VGG16 expects\n",
    "    batch_size=batch_size,\n",
    "    seed = seed_value,\n",
    "    class_mode='binary',\n",
    "    shuffle=True # Binary classification: dent vs crack\n",
    ")"
   ]
  },
  {
   "cell_type": "markdown",
   "metadata": {
    "id": "5rU3WPJ2HEE2"
   },
   "source": [
    "## **Task 1: Create a `valid_generator` using the `valid_datagen` object**\n",
    "\n",
    "\n",
    "Please use the following parameters:\n",
    "\n",
    "*   **directory** should be set to `valid_dir`.\n",
    "*   **class_mode** should be set to `'binary'`.\n",
    "*   **seed** should be set to `seed_value`.\n",
    "*   **batch_size** should be set to `batch_size`.\n",
    "*   **shuffle** should be set to `False`.\n",
    "*   **target_size** should be set to `(img_rows, img_cols)`.\n",
    "\n",
    "Hint: the format should be like:\n",
    "\n",
    "```python\n",
    "valid_generator =  valid_datagen.flow_from_directory(\n",
    "    directory=,\n",
    "    class_mode=,\n",
    "    seed=,\n",
    "    batch_size=,\n",
    "    shuffle=,\n",
    "    target_size=\n",
    ")\n",
    "```"
   ]
  },
  {
   "cell_type": "code",
   "execution_count": 51,
   "metadata": {},
   "outputs": [
    {
     "name": "stdout",
     "output_type": "stream",
     "text": [
      "Valid directory path: aircraft_damage_dataset_v1\\valid\n"
     ]
    }
   ],
   "source": [
    "print(f\"Valid directory path: {valid_dir}\")"
   ]
  },
  {
   "cell_type": "code",
   "execution_count": 52,
   "metadata": {
    "id": "0sj-jiOnHllB"
   },
   "outputs": [
    {
     "ename": "FileNotFoundError",
     "evalue": "[WinError 3] The system cannot find the path specified: 'aircraft_damage_dataset_v1\\\\valid'",
     "output_type": "error",
     "traceback": [
      "\u001b[1;31m---------------------------------------------------------------------------\u001b[0m",
      "\u001b[1;31mFileNotFoundError\u001b[0m                         Traceback (most recent call last)",
      "Cell \u001b[1;32mIn[52], line 1\u001b[0m\n\u001b[1;32m----> 1\u001b[0m valid_generator \u001b[38;5;241m=\u001b[39m valid_datagen\u001b[38;5;241m.\u001b[39mflow_from_directory(\n\u001b[0;32m      2\u001b[0m     directory \u001b[38;5;241m=\u001b[39m valid_dir,\n\u001b[0;32m      3\u001b[0m     class_mode \u001b[38;5;241m=\u001b[39m \u001b[38;5;124m'\u001b[39m\u001b[38;5;124mbinary\u001b[39m\u001b[38;5;124m'\u001b[39m,\n\u001b[0;32m      4\u001b[0m     seed \u001b[38;5;241m=\u001b[39m seed_value,\n\u001b[0;32m      5\u001b[0m     batch_size \u001b[38;5;241m=\u001b[39m batch_size,\n\u001b[0;32m      6\u001b[0m     shuffle \u001b[38;5;241m=\u001b[39m \u001b[38;5;28;01mFalse\u001b[39;00m,\n\u001b[0;32m      7\u001b[0m     target_size \u001b[38;5;241m=\u001b[39m (img_rows, img_cols)\n\u001b[0;32m      8\u001b[0m )\n",
      "File \u001b[1;32m~\\anaconda3\\Lib\\site-packages\\keras\\src\\legacy\\preprocessing\\image.py:1138\u001b[0m, in \u001b[0;36mImageDataGenerator.flow_from_directory\u001b[1;34m(self, directory, target_size, color_mode, classes, class_mode, batch_size, shuffle, seed, save_to_dir, save_prefix, save_format, follow_links, subset, interpolation, keep_aspect_ratio)\u001b[0m\n\u001b[0;32m   1120\u001b[0m \u001b[38;5;28;01mdef\u001b[39;00m \u001b[38;5;21mflow_from_directory\u001b[39m(\n\u001b[0;32m   1121\u001b[0m     \u001b[38;5;28mself\u001b[39m,\n\u001b[0;32m   1122\u001b[0m     directory,\n\u001b[1;32m   (...)\u001b[0m\n\u001b[0;32m   1136\u001b[0m     keep_aspect_ratio\u001b[38;5;241m=\u001b[39m\u001b[38;5;28;01mFalse\u001b[39;00m,\n\u001b[0;32m   1137\u001b[0m ):\n\u001b[1;32m-> 1138\u001b[0m     \u001b[38;5;28;01mreturn\u001b[39;00m DirectoryIterator(\n\u001b[0;32m   1139\u001b[0m         directory,\n\u001b[0;32m   1140\u001b[0m         \u001b[38;5;28mself\u001b[39m,\n\u001b[0;32m   1141\u001b[0m         target_size\u001b[38;5;241m=\u001b[39mtarget_size,\n\u001b[0;32m   1142\u001b[0m         color_mode\u001b[38;5;241m=\u001b[39mcolor_mode,\n\u001b[0;32m   1143\u001b[0m         keep_aspect_ratio\u001b[38;5;241m=\u001b[39mkeep_aspect_ratio,\n\u001b[0;32m   1144\u001b[0m         classes\u001b[38;5;241m=\u001b[39mclasses,\n\u001b[0;32m   1145\u001b[0m         class_mode\u001b[38;5;241m=\u001b[39mclass_mode,\n\u001b[0;32m   1146\u001b[0m         data_format\u001b[38;5;241m=\u001b[39m\u001b[38;5;28mself\u001b[39m\u001b[38;5;241m.\u001b[39mdata_format,\n\u001b[0;32m   1147\u001b[0m         batch_size\u001b[38;5;241m=\u001b[39mbatch_size,\n\u001b[0;32m   1148\u001b[0m         shuffle\u001b[38;5;241m=\u001b[39mshuffle,\n\u001b[0;32m   1149\u001b[0m         seed\u001b[38;5;241m=\u001b[39mseed,\n\u001b[0;32m   1150\u001b[0m         save_to_dir\u001b[38;5;241m=\u001b[39msave_to_dir,\n\u001b[0;32m   1151\u001b[0m         save_prefix\u001b[38;5;241m=\u001b[39msave_prefix,\n\u001b[0;32m   1152\u001b[0m         save_format\u001b[38;5;241m=\u001b[39msave_format,\n\u001b[0;32m   1153\u001b[0m         follow_links\u001b[38;5;241m=\u001b[39mfollow_links,\n\u001b[0;32m   1154\u001b[0m         subset\u001b[38;5;241m=\u001b[39msubset,\n\u001b[0;32m   1155\u001b[0m         interpolation\u001b[38;5;241m=\u001b[39minterpolation,\n\u001b[0;32m   1156\u001b[0m         dtype\u001b[38;5;241m=\u001b[39m\u001b[38;5;28mself\u001b[39m\u001b[38;5;241m.\u001b[39mdtype,\n\u001b[0;32m   1157\u001b[0m     )\n",
      "File \u001b[1;32m~\\anaconda3\\Lib\\site-packages\\keras\\src\\legacy\\preprocessing\\image.py:453\u001b[0m, in \u001b[0;36mDirectoryIterator.__init__\u001b[1;34m(self, directory, image_data_generator, target_size, color_mode, classes, class_mode, batch_size, shuffle, seed, data_format, save_to_dir, save_prefix, save_format, follow_links, subset, interpolation, keep_aspect_ratio, dtype)\u001b[0m\n\u001b[0;32m    451\u001b[0m \u001b[38;5;28;01mif\u001b[39;00m \u001b[38;5;129;01mnot\u001b[39;00m classes:\n\u001b[0;32m    452\u001b[0m     classes \u001b[38;5;241m=\u001b[39m []\n\u001b[1;32m--> 453\u001b[0m     \u001b[38;5;28;01mfor\u001b[39;00m subdir \u001b[38;5;129;01min\u001b[39;00m \u001b[38;5;28msorted\u001b[39m(os\u001b[38;5;241m.\u001b[39mlistdir(directory)):\n\u001b[0;32m    454\u001b[0m         \u001b[38;5;28;01mif\u001b[39;00m os\u001b[38;5;241m.\u001b[39mpath\u001b[38;5;241m.\u001b[39misdir(os\u001b[38;5;241m.\u001b[39mpath\u001b[38;5;241m.\u001b[39mjoin(directory, subdir)):\n\u001b[0;32m    455\u001b[0m             classes\u001b[38;5;241m.\u001b[39mappend(subdir)\n",
      "\u001b[1;31mFileNotFoundError\u001b[0m: [WinError 3] The system cannot find the path specified: 'aircraft_damage_dataset_v1\\\\valid'"
     ]
    }
   ],
   "source": [
    "valid_generator = valid_datagen.flow_from_directory(\n",
    "    directory = valid_dir,\n",
    "    class_mode = 'binary',\n",
    "    seed = seed_value,\n",
    "    batch_size = batch_size,\n",
    "    shuffle = False,\n",
    "    target_size = (img_rows, img_cols)\n",
    ")"
   ]
  },
  {
   "cell_type": "markdown",
   "metadata": {
    "id": "lSBdZiw4IPf8"
   },
   "source": [
    "## **Task 2: Create a `test_generator` using the `test_datagen` object**\n",
    "\n",
    "Please use the following parameters:\n",
    "\n",
    "*   **directory** should be set to `test_dir`.\n",
    "*   **class_mode** should be set to `'binary'`.\n",
    "*   **seed** should be set to `seed_value`.\n",
    "*   **batch_size** should be set to `batch_size`.\n",
    "*   **shuffle** should be set to `False`.\n",
    "*   **target_size** should be set to `(img_rows, img_cols)`.\n",
    "\n",
    "Hint: The format should be like:\n",
    "\n",
    "```python\n",
    "test_generator = test_datagen.flow_from_directory(\n",
    "    directory=,\n",
    "    class_mode=,\n",
    "    seed=,\n",
    "    batch_size=,\n",
    "    shuffle=,\n",
    "    target_size=\n",
    ")\n",
    "```"
   ]
  },
  {
   "cell_type": "code",
   "execution_count": null,
   "metadata": {
    "id": "NpfVKf9XIa0Z"
   },
   "outputs": [],
   "source": [
    "test_generator = test_datagen.flow_from_directory(\n",
    "    directory = test_dir,\n",
    "    class_mode = 'binary',\n",
    "    seed = seed_value,\n",
    "    batch_size = batch_size,\n",
    "    shuffle = False,\n",
    "    target_size = (img_rows, img_cols)\n",
    ")"
   ]
  },
  {
   "cell_type": "markdown",
   "metadata": {
    "id": "DJ6u_vGYJY4R"
   },
   "source": [
    "## **Task 3: Load the pre-trained model VGG16**\n",
    "\n",
    "Set <code>weights='imagenet'</code>,<code>include_top=False</code>,<code>input_shape=(img_rows, img_cols, 3)</code>\n",
    "\n",
    "Hint: The format should be like:\n",
    "\n",
    "base_model = VGG16(weights= , include_top= , input_shape=)\n",
    "\n",
    "****Note: Please copy and save the code of the task as it will be required for submission in the final project. Ensure to submit the response as part of your project submission****"
   ]
  },
  {
   "cell_type": "code",
   "execution_count": 17,
   "metadata": {
    "id": "HrzfmNcCJ0iq"
   },
   "outputs": [
    {
     "name": "stdout",
     "output_type": "stream",
     "text": [
      "Downloading data from https://storage.googleapis.com/tensorflow/keras-applications/vgg16/vgg16_weights_tf_dim_ordering_tf_kernels_notop.h5\n",
      "\u001b[1m58889256/58889256\u001b[0m \u001b[32m━━━━━━━━━━━━━━━━━━━━\u001b[0m\u001b[37m\u001b[0m \u001b[1m2s\u001b[0m 0us/step\n"
     ]
    }
   ],
   "source": [
    "base_model = VGG16(weights='imagenet', include_top=False, input_shape=(img_rows, img_cols, 3))"
   ]
  },
  {
   "cell_type": "code",
   "execution_count": 18,
   "metadata": {
    "id": "721nvY-BKIkt"
   },
   "outputs": [],
   "source": [
    "output = base_model.layers[-1].output\n",
    "output = keras.layers.Flatten()(output)\n",
    "base_model = Model(base_model.input, output)\n",
    "\n",
    "# Freeze the base VGG16 model layers\n",
    "for layer in base_model.layers:\n",
    "    layer.trainable = False"
   ]
  },
  {
   "cell_type": "code",
   "execution_count": 19,
   "metadata": {
    "id": "eYR7G1HdKWlc"
   },
   "outputs": [],
   "source": [
    "# Build the custom model\n",
    "model = Sequential()\n",
    "model.add(base_model)\n",
    "model.add(Dense(512, activation='relu'))\n",
    "model.add(Dropout(0.3))\n",
    "model.add(Dense(512, activation='relu'))\n",
    "model.add(Dropout(0.3))\n",
    "model.add(Dense(1, activation='sigmoid'))"
   ]
  },
  {
   "cell_type": "markdown",
   "metadata": {
    "id": "my8GLjsIKaKj"
   },
   "source": [
    "## **Task 4: Compile the model**\n",
    "\n",
    "You will compile the model using the following parameters:\n",
    "\n",
    "*   **loss**: `'binary_crossentropy'`.\n",
    "*   **optimizer**: `=Adam(learning_rate=0.0001)`.\n",
    "*   **metrics**: `['accuracy']`.\n",
    "\n",
    "Hint: Use `model.compile()` to compile the model:\n",
    "    \n",
    "```python\n",
    "model.compile(\n",
    "    optimizer=,\n",
    "    loss=,\n",
    "    metrics=\n",
    ")\n",
    "```\n",
    "**Note: Please copy and save the code of the task as it will be required for submission in the final project. Ensure to submit the response as part of your project submission.**\n"
   ]
  },
  {
   "cell_type": "code",
   "execution_count": 20,
   "metadata": {
    "id": "1l2biVHTKgdF"
   },
   "outputs": [],
   "source": [
    "model.compile(\n",
    "    optimizer=Adam(learning_rate=0.0001),\n",
    "    loss='binary_crossentropy',\n",
    "    metrics=['accuracy']\n",
    ")"
   ]
  },
  {
   "cell_type": "markdown",
   "metadata": {
    "id": "k-5_fsbXLAkv"
   },
   "source": [
    "## Task 5: Model Training\n",
    "Now that the model is compiled, you can train it using the .fit() method. This step involves passing in the training and validation datasets along with the number of epochs you want to train the model for.\n",
    "\n",
    "You will train the model using the following parameters:\n",
    "\n",
    "*   **train_data**: `train_generator`\n",
    "*   **epochs**: `n_epochs`\n",
    "*   **validation_data**: `valid_generator`\n",
    "\n",
    "Hint: Use `model.fit()` to train the model:\n",
    "    \n",
    "```python\n",
    "history = model.fit(\n",
    "    <train_data>,  # Fill in with the training data generator or dataset\n",
    "    epochs=<number_of_epochs>,  # Fill in with the number of epochs for training\n",
    "    validation_data=<validation_data>,  # Fill in with the validation data generator or dataset\n",
    "   \n",
    ")\n",
    "\n",
    "```\n",
    "**Note: Please copy and save the code of the task as it will be required for submission in the final project. Ensure to submit the response as part of your project submission**\n"
   ]
  },
  {
   "cell_type": "code",
   "execution_count": 32,
   "metadata": {
    "id": "QPJjMw3ALC5j"
   },
   "outputs": [],
   "source": [
    "history = model"
   ]
  },
  {
   "cell_type": "code",
   "execution_count": 33,
   "metadata": {
    "id": "QPJjMw3ALC5j"
   },
   "outputs": [
    {
     "ename": "AttributeError",
     "evalue": "'BlipForConditionalGeneration' object has no attribute 'fit'",
     "output_type": "error",
     "traceback": [
      "\u001b[1;31m---------------------------------------------------------------------------\u001b[0m",
      "\u001b[1;31mAttributeError\u001b[0m                            Traceback (most recent call last)",
      "Cell \u001b[1;32mIn[33], line 1\u001b[0m\n\u001b[1;32m----> 1\u001b[0m history\u001b[38;5;241m.\u001b[39mfit(\n\u001b[0;32m      2\u001b[0m     train_generator,\n\u001b[0;32m      3\u001b[0m     epochs\u001b[38;5;241m=\u001b[39mn_epochs,\n\u001b[0;32m      4\u001b[0m     validation_data\u001b[38;5;241m=\u001b[39mvalid_generator,\n\u001b[0;32m      5\u001b[0m )\n",
      "File \u001b[1;32m~\\anaconda3\\Lib\\site-packages\\torch\\nn\\modules\\module.py:1928\u001b[0m, in \u001b[0;36mModule.__getattr__\u001b[1;34m(self, name)\u001b[0m\n\u001b[0;32m   1926\u001b[0m     \u001b[38;5;28;01mif\u001b[39;00m name \u001b[38;5;129;01min\u001b[39;00m modules:\n\u001b[0;32m   1927\u001b[0m         \u001b[38;5;28;01mreturn\u001b[39;00m modules[name]\n\u001b[1;32m-> 1928\u001b[0m \u001b[38;5;28;01mraise\u001b[39;00m \u001b[38;5;167;01mAttributeError\u001b[39;00m(\n\u001b[0;32m   1929\u001b[0m     \u001b[38;5;124mf\u001b[39m\u001b[38;5;124m\"\u001b[39m\u001b[38;5;124m'\u001b[39m\u001b[38;5;132;01m{\u001b[39;00m\u001b[38;5;28mtype\u001b[39m(\u001b[38;5;28mself\u001b[39m)\u001b[38;5;241m.\u001b[39m\u001b[38;5;18m__name__\u001b[39m\u001b[38;5;132;01m}\u001b[39;00m\u001b[38;5;124m'\u001b[39m\u001b[38;5;124m object has no attribute \u001b[39m\u001b[38;5;124m'\u001b[39m\u001b[38;5;132;01m{\u001b[39;00mname\u001b[38;5;132;01m}\u001b[39;00m\u001b[38;5;124m'\u001b[39m\u001b[38;5;124m\"\u001b[39m\n\u001b[0;32m   1930\u001b[0m )\n",
      "\u001b[1;31mAttributeError\u001b[0m: 'BlipForConditionalGeneration' object has no attribute 'fit'"
     ]
    }
   ],
   "source": [
    "history.fit(\n",
    "    train_generator,\n",
    "    epochs=n_epochs,\n",
    "    validation_data=valid_generator,\n",
    ")"
   ]
  },
  {
   "cell_type": "code",
   "execution_count": 34,
   "metadata": {
    "id": "2tvkI-aZLOz3"
   },
   "outputs": [
    {
     "ename": "AttributeError",
     "evalue": "'BlipForConditionalGeneration' object has no attribute 'history'",
     "output_type": "error",
     "traceback": [
      "\u001b[1;31m---------------------------------------------------------------------------\u001b[0m",
      "\u001b[1;31mAttributeError\u001b[0m                            Traceback (most recent call last)",
      "Cell \u001b[1;32mIn[34], line 1\u001b[0m\n\u001b[1;32m----> 1\u001b[0m train_history \u001b[38;5;241m=\u001b[39m model\u001b[38;5;241m.\u001b[39mhistory\u001b[38;5;241m.\u001b[39mhistory\n",
      "File \u001b[1;32m~\\anaconda3\\Lib\\site-packages\\torch\\nn\\modules\\module.py:1928\u001b[0m, in \u001b[0;36mModule.__getattr__\u001b[1;34m(self, name)\u001b[0m\n\u001b[0;32m   1926\u001b[0m     \u001b[38;5;28;01mif\u001b[39;00m name \u001b[38;5;129;01min\u001b[39;00m modules:\n\u001b[0;32m   1927\u001b[0m         \u001b[38;5;28;01mreturn\u001b[39;00m modules[name]\n\u001b[1;32m-> 1928\u001b[0m \u001b[38;5;28;01mraise\u001b[39;00m \u001b[38;5;167;01mAttributeError\u001b[39;00m(\n\u001b[0;32m   1929\u001b[0m     \u001b[38;5;124mf\u001b[39m\u001b[38;5;124m\"\u001b[39m\u001b[38;5;124m'\u001b[39m\u001b[38;5;132;01m{\u001b[39;00m\u001b[38;5;28mtype\u001b[39m(\u001b[38;5;28mself\u001b[39m)\u001b[38;5;241m.\u001b[39m\u001b[38;5;18m__name__\u001b[39m\u001b[38;5;132;01m}\u001b[39;00m\u001b[38;5;124m'\u001b[39m\u001b[38;5;124m object has no attribute \u001b[39m\u001b[38;5;124m'\u001b[39m\u001b[38;5;132;01m{\u001b[39;00mname\u001b[38;5;132;01m}\u001b[39;00m\u001b[38;5;124m'\u001b[39m\u001b[38;5;124m\"\u001b[39m\n\u001b[0;32m   1930\u001b[0m )\n",
      "\u001b[1;31mAttributeError\u001b[0m: 'BlipForConditionalGeneration' object has no attribute 'history'"
     ]
    }
   ],
   "source": [
    "train_history = model.history.history"
   ]
  },
  {
   "cell_type": "code",
   "execution_count": null,
   "metadata": {
    "id": "8vvQzlP_QTx2"
   },
   "outputs": [],
   "source": [
    "# Plot the loss for both training and validation\n",
    "plt.title(\"Training Loss\")\n",
    "plt.ylabel(\"Loss\")\n",
    "plt.xlabel('Epoch')\n",
    "plt.plot(train_history['loss'])\n",
    "plt.show()\n",
    "\n",
    "plt.title(\"Validation Loss\")\n",
    "plt.ylabel(\"Loss\")\n",
    "plt.xlabel('Epoch')\n",
    "plt.plot(train_history['val_loss'])\n",
    "plt.show()"
   ]
  },
  {
   "cell_type": "markdown",
   "metadata": {
    "id": "ms4v_vlxT5ou"
   },
   "source": [
    "## Task 6: Plot accuracy curves for training and validation sets\n",
    "\n",
    "Hint: Similar to the loss curves. Use `plt.plot()` to plot the accuracy curves for training and validation sets.\n",
    "\n",
    "- `figsize=(5, 5)`\n",
    "- `plt.plot(train_history['accuracy'], label='Training Accuracy')`\n",
    "- `plt.plot(train_history['val_accuracy'], label='Validation Accuracy')`\n",
    "- **Title**: `'Accuracy Curve'`\n",
    "- **xlabel**: `'Epochs'`\n",
    "- **ylabel**: `'Accuracy'`\n",
    "\n",
    "**Note: Please copy and save the code of the task as it will be required for submission in the final project. Ensure to submit the response as part of your project submission**\n"
   ]
  },
  {
   "cell_type": "code",
   "execution_count": null,
   "metadata": {
    "id": "5O0GFV1hT-KN"
   },
   "outputs": [],
   "source": [
    "plt.figure(figsize=(5, 5))\n",
    "plt.plot(train_history['accuracy'], label='Training Accuracy')\n",
    "plt.plot(train_history['val_accuracy'], label='Validation Accuracy')\n",
    "plt.title('Accuracy Curve')\n",
    "plt.xlabel('Epochs')\n",
    "plt.ylabel('Accuracy')\n",
    "plt.legend()\n",
    "plt.show()"
   ]
  },
  {
   "cell_type": "code",
   "execution_count": null,
   "metadata": {
    "id": "OnBzJqd9T_lh"
   },
   "outputs": [],
   "source": [
    "# Evaluate the model on the test set\n",
    "test_loss, test_accuracy = model.evaluate(test_generator, steps=test_generator.samples // test_generator.batch_size)\n",
    "\n",
    "print(f\"Test Loss: {test_loss:.4f}\")\n",
    "print(f\"Test Accuracy: {test_accuracy:.4f}\")"
   ]
  },
  {
   "cell_type": "code",
   "execution_count": null,
   "metadata": {
    "id": "c2z7ey5qUi6M"
   },
   "outputs": [],
   "source": [
    "import numpy as np\n",
    "import matplotlib.pyplot as plt\n",
    "from tensorflow.keras.preprocessing import image\n",
    "\n",
    "# Function to plot a single image and its prediction\n",
    "def plot_image_with_title(image, model, true_label, predicted_label, class_names):\n",
    "    plt.figure(figsize=(6, 6))\n",
    "    plt.imshow(image)\n",
    "\n",
    "    # Convert labels from one-hot to class indices if needed, but for binary labels it's just 0 or 1\n",
    "    true_label_name = class_names[true_label]  # Labels are already in class indices\n",
    "    pred_label_name = class_names[predicted_label]  # Predictions are 0 or 1\n",
    "\n",
    "    plt.title(f\"True: {true_label_name}\\nPred: {pred_label_name}\")\n",
    "    plt.axis('off')\n",
    "    plt.show()\n",
    "\n",
    "# Function to test the model with images from the test set\n",
    "def test_model_on_image(test_generator, model, index_to_plot=0):\n",
    "    # Get a batch of images and labels from the test generator\n",
    "    test_images, test_labels = next(test_generator)\n",
    "\n",
    "    # Make predictions on the batch\n",
    "    predictions = model.predict(test_images)\n",
    "\n",
    "    # In binary classification, predictions are probabilities (float). Convert to binary (0 or 1)\n",
    "    predicted_classes = (predictions > 0.5).astype(int).flatten()\n",
    "\n",
    "    # Get the class indices from the test generator and invert them to get class names\n",
    "    class_indices = test_generator.class_indices\n",
    "    class_names = {v: k for k, v in class_indices.items()}  # Invert the dictionary\n",
    "\n",
    "    # Specify the image to display based on the index\n",
    "    image_to_plot = test_images[index_to_plot]\n",
    "    true_label = test_labels[index_to_plot]\n",
    "    predicted_label = predicted_classes[index_to_plot]\n",
    "\n",
    "    # Plot the selected image with its true and predicted labels\n",
    "    plot_image_with_title(image=image_to_plot, model=model, true_label=true_label, predicted_label=predicted_label, class_names=class_names)\n",
    "\n",
    "\n"
   ]
  },
  {
   "cell_type": "markdown",
   "metadata": {
    "id": "L8MvdaVNUnrc"
   },
   "source": [
    "## **Task 7: Visualizing the results**\n",
    "\n",
    "In this task, you will specify which image from the test dataset to display and test the model on. You will fill in the required values to test your model.\n",
    "\n",
    "You will visualize using the following parameters:\n",
    "\n",
    "*   **test_data_generator**: `test_generator`.\n",
    "*   **model**: `model`.\n",
    "*   **index_to_plot**: `1`.\n",
    "\n",
    "Hint: Use `test_model_on_image` to visualize the result:\n",
    "    \n",
    "```python\n",
    "test_model_on_image(<test_data_generator>, <model>, index_to_plot=index_to_plot)\n",
    "\n",
    "```\n",
    "**NOTE**: Due to the inherent nature of neural networks, predictions may vary from the actual labels. For instance, if the actual label is ‘crack’, the prediction could be either ‘crack’ or ‘dent’, both of which are possible outcomes, and full marks will be awarded for the task.\n",
    "\n",
    "**Note: Please copy and save the code of the task as it will be required for submission in the final project. Ensure to submit the response as part of your project submission**                                \n"
   ]
  },
  {
   "cell_type": "code",
   "execution_count": 30,
   "metadata": {
    "id": "HB79Rv8KUrJw"
   },
   "outputs": [
    {
     "ename": "NameError",
     "evalue": "name 'test_model_on_image' is not defined",
     "output_type": "error",
     "traceback": [
      "\u001b[1;31m---------------------------------------------------------------------------\u001b[0m",
      "\u001b[1;31mNameError\u001b[0m                                 Traceback (most recent call last)",
      "Cell \u001b[1;32mIn[30], line 2\u001b[0m\n\u001b[0;32m      1\u001b[0m index_to_plot \u001b[38;5;241m=\u001b[39m \u001b[38;5;241m1\u001b[39m\n\u001b[1;32m----> 2\u001b[0m test_model_on_image(test_generator, model, index_to_plot\u001b[38;5;241m=\u001b[39mindex_to_plot)\n",
      "\u001b[1;31mNameError\u001b[0m: name 'test_model_on_image' is not defined"
     ]
    }
   ],
   "source": [
    "index_to_plot = 1\n",
    "test_model_on_image(test_generator, model, index_to_plot=index_to_plot)"
   ]
  },
  {
   "cell_type": "markdown",
   "metadata": {
    "id": "J11eyWydVIMi"
   },
   "source": [
    "## <a id='toc2_'></a>[Part 2: Image Captioning and Summarization using BLIP Pretrained Model](#toc2_)\n"
   ]
  },
  {
   "cell_type": "markdown",
   "metadata": {
    "id": "srVUQcZkVJOZ"
   },
   "source": [
    "BLIP (Bootstrapping Language-Image Pretraining) is an advanced vision-and-language model designed to generate natural language descriptions for images. By leveraging both visual and textual information, BLIP can produce human-readable text that accurately reflects the content and context of an image. It is specifically trained to understand images and their relationships to summarizing text, making it ideal for tasks like image captioning, summarization, and visual question answering.\n",
    "\n",
    "In this project, learners will utilize the BLIP model to build a system capable of automatically generating captions and summary for images. The code will integrate the BLIP model within a custom Keras layer. This allows the user to input an image and specify a task, either \"caption\" or \"summary\", to receive a textual output that describes or summarizes the content of the image.\n"
   ]
  },
  {
   "cell_type": "markdown",
   "metadata": {
    "id": "XU53RPqXVLRz"
   },
   "source": [
    "#### Key Steps:\n",
    "\n",
    "- **Image Loading and Preprocessing:** The code will begin by loading images from a file path, then converting and processing them into a format suitable for input to the BLIP model.\n",
    "  \n",
    "- **Text Generation:** Depending on the task, whether generating a caption or summary, the BLIP model will generate corresponding text based on the processed image.\n",
    "  \n",
    "- **Custom Keras Layer:** A custom Keras layer is a user-defined layer that extends Keras' built-in functionality.Here custom Keras layer will be implemented to wrap the BLIP model. This layer will handle the task-specific processing (captioning or summarizing) and integrate smoothly into a TensorFlow/Keras environment.\n"
   ]
  },
  {
   "cell_type": "code",
   "execution_count": 22,
   "metadata": {
    "id": "7FuVbJiyUzST"
   },
   "outputs": [],
   "source": [
    "#Load the required libraries\n",
    "import torch\n",
    "import tensorflow as tf\n",
    "from PIL import Image\n",
    "from transformers import BlipProcessor, BlipForConditionalGeneration"
   ]
  },
  {
   "cell_type": "markdown",
   "metadata": {
    "id": "nga3yX5GVWcb"
   },
   "source": [
    "## 2.1 Loading BLIP Model\n",
    "\n",
    "#### Load the BLIP Model and Processor from Hugging Face\n",
    "\n",
    "Hugging Face is an open-source platform that provides pre-trained machine learning models, datasets, and tools, primarily focused on natural language processing, computer vision, and other AI tasks. It offers easy access to powerful models through its Transformers library.\n",
    "\n",
    "- **BlipProcessor:** This handles the preprocessing of images and text. It converts images to the format that the BLIP model can understand.\n",
    "\n",
    "- **BlipForConditionalGeneration:** This is the model itself, responsible for generating captions or summaries based on the processed image.\n",
    "\n"
   ]
  },
  {
   "cell_type": "code",
   "execution_count": 23,
   "metadata": {
    "id": "LItsvRfuVQi6"
   },
   "outputs": [
    {
     "data": {
      "application/vnd.jupyter.widget-view+json": {
       "model_id": "eac67c04b3df420c8046474876c7c61a",
       "version_major": 2,
       "version_minor": 0
      },
      "text/plain": [
       "preprocessor_config.json:   0%|          | 0.00/287 [00:00<?, ?B/s]"
      ]
     },
     "metadata": {},
     "output_type": "display_data"
    },
    {
     "data": {
      "application/vnd.jupyter.widget-view+json": {
       "model_id": "d4b4f24db8194ed5adbfbde299f4bec7",
       "version_major": 2,
       "version_minor": 0
      },
      "text/plain": [
       "tokenizer_config.json:   0%|          | 0.00/506 [00:00<?, ?B/s]"
      ]
     },
     "metadata": {},
     "output_type": "display_data"
    },
    {
     "data": {
      "application/vnd.jupyter.widget-view+json": {
       "model_id": "26846e2101584b6c951bfee1448810c9",
       "version_major": 2,
       "version_minor": 0
      },
      "text/plain": [
       "vocab.txt:   0%|          | 0.00/232k [00:00<?, ?B/s]"
      ]
     },
     "metadata": {},
     "output_type": "display_data"
    },
    {
     "data": {
      "application/vnd.jupyter.widget-view+json": {
       "model_id": "c25bd8e11f944e65b2b33b3baf962d0e",
       "version_major": 2,
       "version_minor": 0
      },
      "text/plain": [
       "tokenizer.json:   0%|          | 0.00/711k [00:00<?, ?B/s]"
      ]
     },
     "metadata": {},
     "output_type": "display_data"
    },
    {
     "data": {
      "application/vnd.jupyter.widget-view+json": {
       "model_id": "03343b9be8274c919d957e5aa6e0c1b1",
       "version_major": 2,
       "version_minor": 0
      },
      "text/plain": [
       "special_tokens_map.json:   0%|          | 0.00/125 [00:00<?, ?B/s]"
      ]
     },
     "metadata": {},
     "output_type": "display_data"
    },
    {
     "data": {
      "application/vnd.jupyter.widget-view+json": {
       "model_id": "12aaa1f2c8e1466a99a3a255b234b98f",
       "version_major": 2,
       "version_minor": 0
      },
      "text/plain": [
       "config.json:   0%|          | 0.00/4.56k [00:00<?, ?B/s]"
      ]
     },
     "metadata": {},
     "output_type": "display_data"
    },
    {
     "data": {
      "application/vnd.jupyter.widget-view+json": {
       "model_id": "9980fc81af6f4b2c902188f4e4b1eacc",
       "version_major": 2,
       "version_minor": 0
      },
      "text/plain": [
       "pytorch_model.bin:   0%|          | 0.00/990M [00:00<?, ?B/s]"
      ]
     },
     "metadata": {},
     "output_type": "display_data"
    }
   ],
   "source": [
    "#load the pretrained BLIP processor and model:\n",
    "processor = BlipProcessor.from_pretrained(\"Salesforce/blip-image-captioning-base\")\n",
    "model = BlipForConditionalGeneration.from_pretrained(\"Salesforce/blip-image-captioning-base\")"
   ]
  },
  {
   "cell_type": "markdown",
   "metadata": {
    "id": "p1ks6FviVj74"
   },
   "source": [
    "#### Custom Keras Layer: BlipCaptionSummaryLayer\n",
    "\n",
    "Next, we define a custom `tf.keras.layers.Layer` class that takes in an image and a task input (either caption or summary) and processes the image using the BLIP model. To create a custom Keras layer, we need to subclass `tf.keras.layers.Layer` and implement the required methods.\n",
    "\n",
    "#### **BlipCaptionSummaryLayer Class:**\n",
    "\n",
    "This custom Keras layer integrates image preprocessing and text generation using a pretrained BLIP model.\n",
    "\n",
    "- **`__init__`**: This constructor method initializes the `BlipCaptionSummaryLayer` class by setting up the BLIP processor and model.\n",
    "  \n",
    "- **`call`**: This method defines the operations or transformations applied to the input data as it passes through the layer.\n",
    "\n",
    "- **`process_image`**: The `process_image` method contains the custom logic for loading the image, preprocessing it, generating the text (either a caption or a summary) using the BLIP model, and returning the generated result.\n"
   ]
  },
  {
   "cell_type": "code",
   "execution_count": 24,
   "metadata": {
    "id": "fka-W4x4VfTg"
   },
   "outputs": [],
   "source": [
    "class BlipCaptionSummaryLayer(tf.keras.layers.Layer):\n",
    "    def __init__(self, processor, model, **kwargs):\n",
    "        \"\"\"\n",
    "        Initialize the custom Keras layer with the BLIP processor and model.\n",
    "\n",
    "        Args:\n",
    "            processor: The BLIP processor for preparing inputs for the model.\n",
    "            model: The BLIP model for generating captions or summaries.\n",
    "        \"\"\"\n",
    "        super().__init__(**kwargs)\n",
    "        self.processor = processor\n",
    "        self.model = model\n",
    "\n",
    "    def call(self, image_path, task):\n",
    "        # Use tf.py_function to run the custom image processing and text generation\n",
    "        return tf.py_function(self.process_image, [image_path, task], tf.string)\n",
    "\n",
    "    def process_image(self, image_path, task):\n",
    "        \"\"\"\n",
    "        Perform image loading, preprocessing, and text generation.\n",
    "\n",
    "        Args:\n",
    "            image_path: Path to the image file as a string.\n",
    "            task: The type of task (\"caption\" or \"summary\").\n",
    "\n",
    "        Returns:\n",
    "            The generated caption or summary as a string.\n",
    "        \"\"\"\n",
    "        try:\n",
    "            # Decode the image path from the TensorFlow tensor to a Python string\n",
    "            image_path_str = image_path.numpy().decode(\"utf-8\")\n",
    "\n",
    "            # Open the image using PIL and convert it to RGB format\n",
    "            image = Image.open(image_path_str).convert(\"RGB\")\n",
    "\n",
    "            # Set the appropriate prompt based on the task\n",
    "            if task.numpy().decode(\"utf-8\") == \"caption\":\n",
    "                prompt = \"This is a picture of\"  # Modify prompt for more natural output\n",
    "            else:\n",
    "                prompt = \"This is a detailed photo showing\"  # Modify for summary\n",
    "\n",
    "            # Prepare inputs for the BLIP model\n",
    "            inputs = self.processor(images=image, text=prompt, return_tensors=\"pt\")\n",
    "\n",
    "            # Generate text output using the BLIP model\n",
    "            output = self.model.generate(**inputs)\n",
    "\n",
    "            # Decode the output into a readable string\n",
    "            result = self.processor.decode(output[0], skip_special_tokens=True)\n",
    "            return result\n",
    "        except Exception as e:\n",
    "            # Handle errors during image processing or text generation\n",
    "            print(f\"Error: {e}\")\n",
    "            return \"Error processing image\"\n"
   ]
  },
  {
   "cell_type": "markdown",
   "metadata": {
    "id": "JUDIhtOQVscX"
   },
   "source": [
    "## Task 8: Implement a Helper Function to Use the Custom Keras Layer\n",
    "\n",
    "In this task, you will implement a helper function `generate_text` that utilizes the custom `BlipCaptionSummaryLayer` Keras layer to generate captions or summaries for a given image. The function will accept an image path and a task type (caption or summary), process the image using the BLIP model, and return the generated text.\n",
    "\n",
    "### **Steps:**\n",
    "\n",
    "#### Create the Helper Function `generate_text`:\n",
    "The function will accept following parameters:\n",
    "\n",
    "* **`image_path`**: The path to the image file (in tensor format).\n",
    "* **`task`**: The type of task to perform, which can either be \"caption\" or \"summary\" (in tensor format).\n",
    "  \n",
    "Inside the function:\n",
    "1. Create an instance(blip_layer) of the `BlipCaptionSummaryLayer`.\n",
    "2. Call this layer with the provided image path and task type.\n",
    "3. Return the generated caption or summary as the output.\n",
    "\n",
    "**Note: Please copy and save the code of the task as it will be required for submission in the final project. Ensure to submit the response as part of your project submission**\n"
   ]
  },
  {
   "cell_type": "code",
   "execution_count": 25,
   "metadata": {
    "id": "pxGPOWXAVxIX"
   },
   "outputs": [],
   "source": [
    "def generate_text(image_path, task):\n",
    "  blip_layer = BlipCaptionSummaryLayer(processor, model)\n",
    "  generated_text = blip_layer(image_path, task)\n",
    "  return generated_text"
   ]
  },
  {
   "cell_type": "code",
   "execution_count": 26,
   "metadata": {
    "id": "3Hgksg2sVxiX"
   },
   "outputs": [
    {
     "name": "stdout",
     "output_type": "stream",
     "text": [
      "Caption: this is a picture of a plane\n",
      "Summary: this is a detailed photo showing the engine of a boeing 747\n"
     ]
    }
   ],
   "source": [
    "\n",
    "# Path to an example image\n",
    "image_path = tf.constant(\"aircraft_damage_dataset_v1/test/dent/144_10_JPG_jpg.rf.4d008cc33e217c1606b76585469d626b.jpg\")  # actual path of image\n",
    "\n",
    "# Generate a caption for the image\n",
    "caption = generate_text(image_path, tf.constant(\"caption\"))\n",
    "# Decode and print the generated caption\n",
    "print(\"Caption:\", caption.numpy().decode(\"utf-8\"))\n",
    "\n",
    "# Generate a summary for the image\n",
    "summary = generate_text(image_path, tf.constant(\"summary\"))\n",
    "# Decode and print the generated summary\n",
    "print(\"Summary:\", summary.numpy().decode(\"utf-8\"))"
   ]
  },
  {
   "cell_type": "markdown",
   "metadata": {
    "id": "PqLy6VUQXcXr"
   },
   "source": [
    "## Task 9: Generate a caption for an image using the using BLIP pretrained model\n",
    "\n",
    "- Use the image_path variable given below to load the image. Run the cell to before proceeding to next step.\n",
    "- Use the `generate_text` function to generate a caption for the image.\n",
    "- Use the example given in `2.2 Generating Captions and Summaries` for this task\n",
    "  \n",
    "**Note:** Generated captions may not always be accurate, as the model is limited by its training data and may not fully understand new or specific images.\n",
    "  \n",
    "**Note: Please copy and save the output of the task as it will be required for submission in the final project. Ensure to submit the response as part of your project submission**\n"
   ]
  },
  {
   "cell_type": "code",
   "execution_count": 27,
   "metadata": {
    "id": "EDGDHzYzXSIu"
   },
   "outputs": [
    {
     "data": {
      "image/png": "[encoded data removed]",
      "text/plain": [
       "<Figure size 640x480 with 1 Axes>"
      ]
     },
     "metadata": {},
     "output_type": "display_data"
    }
   ],
   "source": [
    "# We will use the following image to display Caption and Summary for Task 9 and 10\n",
    "# URL of the image\n",
    "image_url = \"aircraft_damage_dataset_v1/test/dent/149_22_JPG_jpg.rf.4899cbb6f4aad9588fa3811bb886c34d.jpg\"\n",
    "# Load and display the image\n",
    "img = plt.imread(image_url)\n",
    "plt.imshow(img)\n",
    "plt.axis('off')  # Hide the axis\n",
    "plt.show()"
   ]
  },
  {
   "cell_type": "code",
   "execution_count": 28,
   "metadata": {
    "id": "h7c3evJdXV5K"
   },
   "outputs": [],
   "source": [
    "image_path = tf.constant(\"aircraft_damage_dataset_v1/test/dent/149_22_JPG_jpg.rf.4899cbb6f4aad9588fa3811bb886c34d.jpg\")  # actual path of image"
   ]
  },
  {
   "cell_type": "code",
   "execution_count": 29,
   "metadata": {
    "id": "rG-ttfD9XWSk"
   },
   "outputs": [
    {
     "name": "stdout",
     "output_type": "stream",
     "text": [
      "Caption: this is a picture of a plane that was sitting on the ground in a field\n"
     ]
    }
   ],
   "source": [
    "# Generate a caption for the image\n",
    "caption = generate_text(image_path, tf.constant(\"caption\"))\n",
    "# Decode and print the generated caption\n",
    "print(\"Caption:\", caption.numpy().decode(\"utf-8\"))"
   ]
  },
  {
   "cell_type": "code",
   "execution_count": null,
   "metadata": {
    "id": "2SVbwvJlXgQ2"
   },
   "outputs": [],
   "source": []
  },
  {
   "cell_type": "code",
   "execution_count": null,
   "metadata": {},
   "outputs": [],
   "source": []
  },
  {
   "cell_type": "code",
   "execution_count": null,
   "metadata": {},
   "outputs": [],
   "source": []
  },
  {
   "cell_type": "code",
   "execution_count": null,
   "metadata": {},
   "outputs": [],
   "source": []
  }
 ],
 "metadata": {
  "colab": {
   "private_outputs": true,
   "provenance": []
  },
  "kernelspec": {
   "display_name": "Python [conda env:base]",
   "language": "python",
   "name": "conda-base-py"
  },
  "language_info": {
   "codemirror_mode": {
    "name": "ipython",
    "version": 3
   },
   "file_extension": ".py",
   "mimetype": "text/x-python",
   "name": "python",
   "nbconvert_exporter": "python",
   "pygments_lexer": "ipython3",
   "version": "3.12.3"
  }
 },
 "nbformat": 4,
 "nbformat_minor": 4
}
