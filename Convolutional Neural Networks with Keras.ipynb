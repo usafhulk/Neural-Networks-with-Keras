{
  "cells": [
    {
      "cell_type": "code",
      "metadata": {
        "colab": {
          "base_uri": "https://localhost:8080/"
        },
        "collapsed": true,
        "id": "dc5e450c-e81e-42b1-a564-7d59bd960067",
        "outputId": "86ce33f6-95fb-4a86-821f-6eacd638e6af"
      },
      "outputs": [
        {
          "output_type": "stream",
          "name": "stdout",
          "text": [
            "Requirement already satisfied: numpy==2.0.2 in /usr/local/lib/python3.11/dist-packages (2.0.2)\n",
            "Requirement already satisfied: pandas==2.2.2 in /usr/local/lib/python3.11/dist-packages (2.2.2)\n",
            "Requirement already satisfied: numpy>=1.23.2 in /usr/local/lib/python3.11/dist-packages (from pandas==2.2.2) (2.0.2)\n",
            "Requirement already satisfied: python-dateutil>=2.8.2 in /usr/local/lib/python3.11/dist-packages (from pandas==2.2.2) (2.9.0.post0)\n",
            "Requirement already satisfied: pytz>=2020.1 in /usr/local/lib/python3.11/dist-packages (from pandas==2.2.2) (2025.2)\n",
            "Requirement already satisfied: tzdata>=2022.7 in /usr/local/lib/python3.11/dist-packages (from pandas==2.2.2) (2025.2)\n",
            "Requirement already satisfied: six>=1.5 in /usr/local/lib/python3.11/dist-packages (from python-dateutil>=2.8.2->pandas==2.2.2) (1.17.0)\n",
            "Collecting tensorflow_cpu==2.18.0\n",
            "  Downloading tensorflow_cpu-2.18.0-cp311-cp311-manylinux_2_17_x86_64.manylinux2014_x86_64.whl.metadata (4.1 kB)\n",
            "Requirement already satisfied: absl-py>=1.0.0 in /usr/local/lib/python3.11/dist-packages (from tensorflow_cpu==2.18.0) (1.4.0)\n",
            "Requirement already satisfied: astunparse>=1.6.0 in /usr/local/lib/python3.11/dist-packages (from tensorflow_cpu==2.18.0) (1.6.3)\n",
            "Requirement already satisfied: flatbuffers>=24.3.25 in /usr/local/lib/python3.11/dist-packages (from tensorflow_cpu==2.18.0) (25.2.10)\n",
            "Requirement already satisfied: gast!=0.5.0,!=0.5.1,!=0.5.2,>=0.2.1 in /usr/local/lib/python3.11/dist-packages (from tensorflow_cpu==2.18.0) (0.6.0)\n",
            "Requirement already satisfied: google-pasta>=0.1.1 in /usr/local/lib/python3.11/dist-packages (from tensorflow_cpu==2.18.0) (0.2.0)\n",
            "Requirement already satisfied: libclang>=13.0.0 in /usr/local/lib/python3.11/dist-packages (from tensorflow_cpu==2.18.0) (18.1.1)\n",
            "Requirement already satisfied: opt-einsum>=2.3.2 in /usr/local/lib/python3.11/dist-packages (from tensorflow_cpu==2.18.0) (3.4.0)\n",
            "Requirement already satisfied: packaging in /usr/local/lib/python3.11/dist-packages (from tensorflow_cpu==2.18.0) (24.2)\n",
            "Requirement already satisfied: protobuf!=4.21.0,!=4.21.1,!=4.21.2,!=4.21.3,!=4.21.4,!=4.21.5,<6.0.0dev,>=3.20.3 in /usr/local/lib/python3.11/dist-packages (from tensorflow_cpu==2.18.0) (5.29.4)\n",
            "Requirement already satisfied: requests<3,>=2.21.0 in /usr/local/lib/python3.11/dist-packages (from tensorflow_cpu==2.18.0) (2.32.3)\n",
            "Requirement already satisfied: setuptools in /usr/local/lib/python3.11/dist-packages (from tensorflow_cpu==2.18.0) (75.2.0)\n",
            "Requirement already satisfied: six>=1.12.0 in /usr/local/lib/python3.11/dist-packages (from tensorflow_cpu==2.18.0) (1.17.0)\n",
            "Requirement already satisfied: termcolor>=1.1.0 in /usr/local/lib/python3.11/dist-packages (from tensorflow_cpu==2.18.0) (3.1.0)\n",
            "Requirement already satisfied: typing-extensions>=3.6.6 in /usr/local/lib/python3.11/dist-packages (from tensorflow_cpu==2.18.0) (4.13.2)\n",
            "Requirement already satisfied: wrapt>=1.11.0 in /usr/local/lib/python3.11/dist-packages (from tensorflow_cpu==2.18.0) (1.17.2)\n",
            "Requirement already satisfied: grpcio<2.0,>=1.24.3 in /usr/local/lib/python3.11/dist-packages (from tensorflow_cpu==2.18.0) (1.71.0)\n",
            "Requirement already satisfied: tensorboard<2.19,>=2.18 in /usr/local/lib/python3.11/dist-packages (from tensorflow_cpu==2.18.0) (2.18.0)\n",
            "Requirement already satisfied: keras>=3.5.0 in /usr/local/lib/python3.11/dist-packages (from tensorflow_cpu==2.18.0) (3.8.0)\n",
            "Requirement already satisfied: numpy<2.1.0,>=1.26.0 in /usr/local/lib/python3.11/dist-packages (from tensorflow_cpu==2.18.0) (2.0.2)\n",
            "Requirement already satisfied: h5py>=3.11.0 in /usr/local/lib/python3.11/dist-packages (from tensorflow_cpu==2.18.0) (3.13.0)\n",
            "Requirement already satisfied: ml-dtypes<0.5.0,>=0.4.0 in /usr/local/lib/python3.11/dist-packages (from tensorflow_cpu==2.18.0) (0.4.1)\n",
            "Requirement already satisfied: tensorflow-io-gcs-filesystem>=0.23.1 in /usr/local/lib/python3.11/dist-packages (from tensorflow_cpu==2.18.0) (0.37.1)\n",
            "Requirement already satisfied: wheel<1.0,>=0.23.0 in /usr/local/lib/python3.11/dist-packages (from astunparse>=1.6.0->tensorflow_cpu==2.18.0) (0.45.1)\n",
            "Requirement already satisfied: rich in /usr/local/lib/python3.11/dist-packages (from keras>=3.5.0->tensorflow_cpu==2.18.0) (13.9.4)\n",
            "Requirement already satisfied: namex in /usr/local/lib/python3.11/dist-packages (from keras>=3.5.0->tensorflow_cpu==2.18.0) (0.0.9)\n",
            "Requirement already satisfied: optree in /usr/local/lib/python3.11/dist-packages (from keras>=3.5.0->tensorflow_cpu==2.18.0) (0.15.0)\n",
            "Requirement already satisfied: charset-normalizer<4,>=2 in /usr/local/lib/python3.11/dist-packages (from requests<3,>=2.21.0->tensorflow_cpu==2.18.0) (3.4.2)\n",
            "Requirement already satisfied: idna<4,>=2.5 in /usr/local/lib/python3.11/dist-packages (from requests<3,>=2.21.0->tensorflow_cpu==2.18.0) (3.10)\n",
            "Requirement already satisfied: urllib3<3,>=1.21.1 in /usr/local/lib/python3.11/dist-packages (from requests<3,>=2.21.0->tensorflow_cpu==2.18.0) (2.4.0)\n",
            "Requirement already satisfied: certifi>=2017.4.17 in /usr/local/lib/python3.11/dist-packages (from requests<3,>=2.21.0->tensorflow_cpu==2.18.0) (2025.4.26)\n",
            "Requirement already satisfied: markdown>=2.6.8 in /usr/local/lib/python3.11/dist-packages (from tensorboard<2.19,>=2.18->tensorflow_cpu==2.18.0) (3.8)\n",
            "Requirement already satisfied: tensorboard-data-server<0.8.0,>=0.7.0 in /usr/local/lib/python3.11/dist-packages (from tensorboard<2.19,>=2.18->tensorflow_cpu==2.18.0) (0.7.2)\n",
            "Requirement already satisfied: werkzeug>=1.0.1 in /usr/local/lib/python3.11/dist-packages (from tensorboard<2.19,>=2.18->tensorflow_cpu==2.18.0) (3.1.3)\n",
            "Requirement already satisfied: MarkupSafe>=2.1.1 in /usr/local/lib/python3.11/dist-packages (from werkzeug>=1.0.1->tensorboard<2.19,>=2.18->tensorflow_cpu==2.18.0) (3.0.2)\n",
            "Requirement already satisfied: markdown-it-py>=2.2.0 in /usr/local/lib/python3.11/dist-packages (from rich->keras>=3.5.0->tensorflow_cpu==2.18.0) (3.0.0)\n",
            "Requirement already satisfied: pygments<3.0.0,>=2.13.0 in /usr/local/lib/python3.11/dist-packages (from rich->keras>=3.5.0->tensorflow_cpu==2.18.0) (2.19.1)\n",
            "Requirement already satisfied: mdurl~=0.1 in /usr/local/lib/python3.11/dist-packages (from markdown-it-py>=2.2.0->rich->keras>=3.5.0->tensorflow_cpu==2.18.0) (0.1.2)\n",
            "Downloading tensorflow_cpu-2.18.0-cp311-cp311-manylinux_2_17_x86_64.manylinux2014_x86_64.whl (230.2 MB)\n",
            "\u001b[2K   \u001b[90m━━━━━━━━━━━━━━━━━━━━━━━━━━━━━━━━━━━━━━━━\u001b[0m \u001b[32m230.2/230.2 MB\u001b[0m \u001b[31m7.1 MB/s\u001b[0m eta \u001b[36m0:00:00\u001b[0m\n",
            "\u001b[?25hInstalling collected packages: tensorflow_cpu\n",
            "Successfully installed tensorflow_cpu-2.18.0\n",
            "Collecting matplotlib==3.9.2\n",
            "  Downloading matplotlib-3.9.2-cp311-cp311-manylinux_2_17_x86_64.manylinux2014_x86_64.whl.metadata (11 kB)\n",
            "Requirement already satisfied: contourpy>=1.0.1 in /usr/local/lib/python3.11/dist-packages (from matplotlib==3.9.2) (1.3.2)\n",
            "Requirement already satisfied: cycler>=0.10 in /usr/local/lib/python3.11/dist-packages (from matplotlib==3.9.2) (0.12.1)\n",
            "Requirement already satisfied: fonttools>=4.22.0 in /usr/local/lib/python3.11/dist-packages (from matplotlib==3.9.2) (4.57.0)\n",
            "Requirement already satisfied: kiwisolver>=1.3.1 in /usr/local/lib/python3.11/dist-packages (from matplotlib==3.9.2) (1.4.8)\n",
            "Requirement already satisfied: numpy>=1.23 in /usr/local/lib/python3.11/dist-packages (from matplotlib==3.9.2) (2.0.2)\n",
            "Requirement already satisfied: packaging>=20.0 in /usr/local/lib/python3.11/dist-packages (from matplotlib==3.9.2) (24.2)\n",
            "Requirement already satisfied: pillow>=8 in /usr/local/lib/python3.11/dist-packages (from matplotlib==3.9.2) (11.2.1)\n",
            "Requirement already satisfied: pyparsing>=2.3.1 in /usr/local/lib/python3.11/dist-packages (from matplotlib==3.9.2) (3.2.3)\n",
            "Requirement already satisfied: python-dateutil>=2.7 in /usr/local/lib/python3.11/dist-packages (from matplotlib==3.9.2) (2.9.0.post0)\n",
            "Requirement already satisfied: six>=1.5 in /usr/local/lib/python3.11/dist-packages (from python-dateutil>=2.7->matplotlib==3.9.2) (1.17.0)\n",
            "Downloading matplotlib-3.9.2-cp311-cp311-manylinux_2_17_x86_64.manylinux2014_x86_64.whl (8.3 MB)\n",
            "\u001b[2K   \u001b[90m━━━━━━━━━━━━━━━━━━━━━━━━━━━━━━━━━━━━━━━━\u001b[0m \u001b[32m8.3/8.3 MB\u001b[0m \u001b[31m51.9 MB/s\u001b[0m eta \u001b[36m0:00:00\u001b[0m\n",
            "\u001b[?25hInstalling collected packages: matplotlib\n",
            "  Attempting uninstall: matplotlib\n",
            "    Found existing installation: matplotlib 3.10.0\n",
            "    Uninstalling matplotlib-3.10.0:\n",
            "      Successfully uninstalled matplotlib-3.10.0\n",
            "Successfully installed matplotlib-3.9.2\n"
          ]
        }
      ],
      "source": [
        "!pip install numpy==2.0.2\n",
        "!pip install pandas==2.2.2\n",
        "!pip install tensorflow_cpu==2.18.0\n",
        "!pip install matplotlib==3.9.2"
      ],
      "execution_count": 1
    },
    {
      "cell_type": "markdown",
      "metadata": {
        "id": "df48ab35-3ce3-4d73-9e9f-142c1c272773"
      },
      "source": [
        "suppress the warning messages due to use of CPU architechture for tensoflow.\n",
        "\n"
      ]
    },
    {
      "cell_type": "code",
      "metadata": {
        "id": "c4d79a7c-6cbc-4b7c-8f6e-23c4d3dbec4f"
      },
      "outputs": [],
      "source": [
        "import os\n",
        "os.environ['TF_ENABLE_ONEDNN_OPTS'] = '0'\n",
        "os.environ['TF_CPP_MIN_LOG_LEVEL'] = '2'"
      ],
      "execution_count": 2
    },
    {
      "cell_type": "code",
      "metadata": {
        "id": "54f7f5de-dd4f-4160-97a7-41fc13358596"
      },
      "outputs": [],
      "source": [
        "import keras\n",
        "from keras.models import Sequential\n",
        "from keras.layers import Dense\n",
        "from keras.layers import Input\n",
        "from keras.utils import to_categorical"
      ],
      "execution_count": 3
    },
    {
      "cell_type": "markdown",
      "metadata": {
        "id": "6ae6ee1f-c5f9-4136-a661-d0ecad7bc618"
      },
      "source": [
        "When working with convolutional neural networks in particular, we will need additional packages.\n"
      ]
    },
    {
      "cell_type": "code",
      "metadata": {
        "id": "59965020-f741-41d0-8b70-00253641ff4c"
      },
      "outputs": [],
      "source": [
        "from keras.layers import Conv2D # to add convolutional layers\n",
        "from keras.layers import MaxPooling2D # to add pooling layers\n",
        "from keras.layers import Flatten # to flatten data for fully connected layers"
      ],
      "execution_count": 4
    },
    {
      "cell_type": "markdown",
      "metadata": {
        "id": "b4be0cd5-9e2a-44f7-a6de-1fdc46923fb4"
      },
      "source": [
        "## Convolutional Neural Network with One Set of Convolutional and Pooling Layers\n"
      ]
    },
    {
      "cell_type": "code",
      "metadata": {
        "colab": {
          "base_uri": "https://localhost:8080/"
        },
        "id": "21cd5320-20a6-4e90-89be-81af7990a4c5",
        "outputId": "a4676b76-57bf-4701-e031-e17d824a837b"
      },
      "outputs": [
        {
          "output_type": "stream",
          "name": "stdout",
          "text": [
            "Downloading data from https://storage.googleapis.com/tensorflow/tf-keras-datasets/mnist.npz\n",
            "\u001b[1m11490434/11490434\u001b[0m \u001b[32m━━━━━━━━━━━━━━━━━━━━\u001b[0m\u001b[37m\u001b[0m \u001b[1m0s\u001b[0m 0us/step\n"
          ]
        }
      ],
      "source": [
        "# import data\n",
        "from keras.datasets import mnist\n",
        "\n",
        "# load data\n",
        "(X_train, y_train), (X_test, y_test) = mnist.load_data()\n",
        "\n",
        "# reshape to be [samples][pixels][width][height]\n",
        "X_train = X_train.reshape(X_train.shape[0], 28, 28, 1).astype('float32')\n",
        "X_test = X_test.reshape(X_test.shape[0], 28, 28, 1).astype('float32')"
      ],
      "execution_count": 5
    },
    {
      "cell_type": "markdown",
      "metadata": {
        "id": "82a804cb-2ea6-4925-94a1-ef4ba5a2ef1d"
      },
      "source": [
        "Let's normalize the pixel values to be between 0 and 1\n"
      ]
    },
    {
      "cell_type": "code",
      "metadata": {
        "id": "26b2fc47-fbfb-42ce-bfe7-d1cda99d4988"
      },
      "outputs": [],
      "source": [
        "X_train = X_train / 255 # normalize training data\n",
        "X_test = X_test / 255 # normalize test data"
      ],
      "execution_count": 6
    },
    {
      "cell_type": "markdown",
      "metadata": {
        "id": "58622fd9-b0ff-408c-baf5-4db94f8a0a97"
      },
      "source": [
        "Next, let's convert the target variable into binary categories\n"
      ]
    },
    {
      "cell_type": "code",
      "metadata": {
        "id": "c01c40ef-75ba-4c87-954a-4f5ecef7b41f"
      },
      "outputs": [],
      "source": [
        "y_train = to_categorical(y_train)\n",
        "y_test = to_categorical(y_test)\n",
        "\n",
        "num_classes = y_test.shape[1] # number of categories"
      ],
      "execution_count": 7
    },
    {
      "cell_type": "markdown",
      "metadata": {
        "id": "2c42c05a-ae9e-44bc-ab58-5b5c55c6cc43"
      },
      "source": [
        "Next, let's define a function that creates our model. Let's start with one set of convolutional and pooling layers.\n"
      ]
    },
    {
      "cell_type": "code",
      "metadata": {
        "id": "678716df-28c6-4944-872b-2ab253d7ea68"
      },
      "outputs": [],
      "source": [
        "def convolutional_model():\n",
        "\n",
        "    # create model\n",
        "    model = Sequential()\n",
        "    model.add(Input(shape=(28, 28, 1)))\n",
        "    model.add(Conv2D(16, (5, 5), strides=(1, 1), activation='relu'))\n",
        "    model.add(MaxPooling2D(pool_size=(2, 2), strides=(2, 2)))\n",
        "\n",
        "    model.add(Flatten())\n",
        "    model.add(Dense(100, activation='relu'))\n",
        "    model.add(Dense(num_classes, activation='softmax'))\n",
        "\n",
        "    # compile model\n",
        "    model.compile(optimizer='adam', loss='categorical_crossentropy',  metrics=['accuracy'])\n",
        "    return model"
      ],
      "execution_count": 8
    },
    {
      "cell_type": "markdown",
      "metadata": {
        "id": "d94c41fa-0fae-482c-b4f5-0729d31569c2"
      },
      "source": [
        "call the function to create our new convolutional neural network, train it ,and evaluate it.\n"
      ]
    },
    {
      "cell_type": "code",
      "metadata": {
        "colab": {
          "base_uri": "https://localhost:8080/"
        },
        "id": "095aa859-c641-4d6d-abb6-a1712a64f89b",
        "outputId": "e1cd30ee-a09a-44ac-d4a7-445fff8777a8"
      },
      "outputs": [
        {
          "output_type": "stream",
          "name": "stdout",
          "text": [
            "Epoch 1/10\n",
            "300/300 - 25s - 83ms/step - accuracy: 0.9207 - loss: 0.2899 - val_accuracy: 0.9738 - val_loss: 0.0869\n",
            "Epoch 2/10\n",
            "300/300 - 40s - 133ms/step - accuracy: 0.9768 - loss: 0.0786 - val_accuracy: 0.9825 - val_loss: 0.0548\n",
            "Epoch 3/10\n",
            "300/300 - 23s - 76ms/step - accuracy: 0.9832 - loss: 0.0560 - val_accuracy: 0.9851 - val_loss: 0.0470\n",
            "Epoch 4/10\n",
            "300/300 - 40s - 135ms/step - accuracy: 0.9871 - loss: 0.0429 - val_accuracy: 0.9853 - val_loss: 0.0421\n",
            "Epoch 5/10\n",
            "300/300 - 41s - 137ms/step - accuracy: 0.9887 - loss: 0.0364 - val_accuracy: 0.9852 - val_loss: 0.0430\n",
            "Epoch 6/10\n",
            "300/300 - 41s - 138ms/step - accuracy: 0.9910 - loss: 0.0298 - val_accuracy: 0.9863 - val_loss: 0.0435\n",
            "Epoch 7/10\n",
            "300/300 - 42s - 139ms/step - accuracy: 0.9931 - loss: 0.0233 - val_accuracy: 0.9870 - val_loss: 0.0384\n",
            "Epoch 8/10\n",
            "300/300 - 40s - 134ms/step - accuracy: 0.9936 - loss: 0.0213 - val_accuracy: 0.9875 - val_loss: 0.0416\n",
            "Epoch 9/10\n",
            "300/300 - 41s - 137ms/step - accuracy: 0.9954 - loss: 0.0165 - val_accuracy: 0.9877 - val_loss: 0.0398\n",
            "Epoch 10/10\n",
            "300/300 - 39s - 130ms/step - accuracy: 0.9959 - loss: 0.0137 - val_accuracy: 0.9892 - val_loss: 0.0367\n",
            "Accuracy: 0.9891999959945679 \n",
            " Error: 1.080000400543213\n"
          ]
        }
      ],
      "source": [
        "# build the model\n",
        "model = convolutional_model()\n",
        "\n",
        "# fit the model\n",
        "model.fit(X_train, y_train, validation_data=(X_test, y_test), epochs=10, batch_size=200, verbose=2)\n",
        "\n",
        "# evaluate the model\n",
        "scores = model.evaluate(X_test, y_test, verbose=0)\n",
        "print(\"Accuracy: {} \\n Error: {}\".format(scores[1], 100-scores[1]*100))"
      ],
      "execution_count": 9
    },
    {
      "cell_type": "markdown",
      "source": [
        "### Results\n",
        "- The high accuracy (98.84%) demonstrates that the model is highly effective in classifying the test images.\n",
        "- The very low error rate (1.08%) indicates that the model generalizes well and is not significantly overfitting.\n",
        "- These results suggest the model is reliable for practical applications, provided the test dataset is representative of real-world scenarios."
      ],
      "metadata": {
        "id": "SbXlV0PEia2O"
      }
    },
    {
      "cell_type": "markdown",
      "metadata": {
        "id": "bdadb672-3dd5-47c8-b2aa-b573faec12ab"
      },
      "source": [
        "------------------------------------------\n"
      ]
    },
    {
      "cell_type": "markdown",
      "metadata": {
        "id": "8346bc8d-b06d-4e59-ab6d-38ab51f7e3a2"
      },
      "source": [
        "## Convolutional Neural Network with Two Sets of Convolutional and Pooling Layers\n"
      ]
    },
    {
      "cell_type": "markdown",
      "metadata": {
        "id": "ed6adec1-b389-4d45-a94b-c3f378106a02"
      },
      "source": [
        "redefine the convolutional model so that it has two convolutional and pooling layers instead of just one layer of each.\n"
      ]
    },
    {
      "cell_type": "code",
      "metadata": {
        "id": "1238bc6e-7594-48f2-b239-83fd36c4838d"
      },
      "outputs": [],
      "source": [
        "def convolutional_model():\n",
        "\n",
        "    # create model\n",
        "    model = Sequential()\n",
        "    model.add(Input(shape=(28, 28, 1)))\n",
        "    model.add(Conv2D(16, (5, 5), activation='relu'))\n",
        "    model.add(MaxPooling2D(pool_size=(2, 2), strides=(2, 2)))\n",
        "\n",
        "    model.add(Conv2D(8, (2, 2), activation='relu'))\n",
        "    model.add(MaxPooling2D(pool_size=(2, 2), strides=(2, 2)))\n",
        "\n",
        "    model.add(Flatten())\n",
        "    model.add(Dense(100, activation='relu'))\n",
        "    model.add(Dense(num_classes, activation='softmax'))\n",
        "\n",
        "    # Compile model\n",
        "    model.compile(optimizer='adam', loss='categorical_crossentropy',  metrics=['accuracy'])\n",
        "    return model"
      ],
      "execution_count": null
    },
    {
      "cell_type": "markdown",
      "metadata": {
        "id": "ad1e634f-0a4a-475b-95da-b6e322a83c46"
      },
      "source": [
        "call the function to create our new convolutional neural network, train it ,and evaluate it."
      ]
    },
    {
      "cell_type": "code",
      "metadata": {
        "colab": {
          "base_uri": "https://localhost:8080/"
        },
        "id": "3c0465aa-295a-49e7-92bb-050edb59e3df",
        "outputId": "2f498015-9cd2-4d25-c9e7-14aed2ffe55b"
      },
      "outputs": [
        {
          "output_type": "stream",
          "name": "stdout",
          "text": [
            "Epoch 1/10\n",
            "300/300 - 24s - 80ms/step - accuracy: 0.9198 - loss: 0.2888 - val_accuracy: 0.9681 - val_loss: 0.1067\n",
            "Epoch 2/10\n",
            "300/300 - 23s - 76ms/step - accuracy: 0.9753 - loss: 0.0856 - val_accuracy: 0.9820 - val_loss: 0.0586\n",
            "Epoch 3/10\n",
            "300/300 - 41s - 136ms/step - accuracy: 0.9829 - loss: 0.0581 - val_accuracy: 0.9862 - val_loss: 0.0464\n",
            "Epoch 4/10\n",
            "300/300 - 41s - 137ms/step - accuracy: 0.9863 - loss: 0.0462 - val_accuracy: 0.9850 - val_loss: 0.0446\n",
            "Epoch 5/10\n",
            "300/300 - 42s - 139ms/step - accuracy: 0.9888 - loss: 0.0361 - val_accuracy: 0.9869 - val_loss: 0.0403\n",
            "Epoch 6/10\n",
            "300/300 - 39s - 129ms/step - accuracy: 0.9907 - loss: 0.0301 - val_accuracy: 0.9862 - val_loss: 0.0402\n",
            "Epoch 7/10\n",
            "300/300 - 42s - 140ms/step - accuracy: 0.9926 - loss: 0.0245 - val_accuracy: 0.9858 - val_loss: 0.0452\n",
            "Epoch 8/10\n",
            "300/300 - 41s - 135ms/step - accuracy: 0.9936 - loss: 0.0205 - val_accuracy: 0.9862 - val_loss: 0.0422\n",
            "Epoch 9/10\n",
            "300/300 - 40s - 132ms/step - accuracy: 0.9941 - loss: 0.0179 - val_accuracy: 0.9882 - val_loss: 0.0360\n",
            "Epoch 10/10\n",
            "300/300 - 43s - 143ms/step - accuracy: 0.9957 - loss: 0.0144 - val_accuracy: 0.9875 - val_loss: 0.0380\n",
            "Accuracy: 0.987500011920929 \n",
            " Error: 1.2499988079071045\n"
          ]
        }
      ],
      "source": [
        "# build the model\n",
        "model = convolutional_model()\n",
        "\n",
        "# fit the model\n",
        "model.fit(X_train, y_train, validation_data=(X_test, y_test), epochs=10, batch_size=200, verbose=2)\n",
        "\n",
        "# evaluate the model\n",
        "scores = model.evaluate(X_test, y_test, verbose=0)\n",
        "print(\"Accuracy: {} \\n Error: {}\".format(scores[1], 100-scores[1]*100))"
      ],
      "execution_count": 10
    },
    {
      "cell_type": "markdown",
      "metadata": {
        "id": "b552fc94-0831-4569-bc0e-c5b9b153b70d"
      },
      "source": [
        "how does batch size affect the time required and accuracy of the model training.\n"
      ]
    },
    {
      "cell_type": "code",
      "metadata": {
        "colab": {
          "base_uri": "https://localhost:8080/"
        },
        "id": "f01355d9-0484-4b16-8419-fd6e64640806",
        "outputId": "72f01eaf-1ed5-442f-ff23-ab95922ceb41"
      },
      "outputs": [
        {
          "output_type": "stream",
          "name": "stdout",
          "text": [
            "Epoch 1/10\n",
            "59/59 - 25s - 421ms/step - accuracy: 0.8338 - loss: 0.6532 - val_accuracy: 0.9299 - val_loss: 0.2407\n",
            "Epoch 2/10\n",
            "59/59 - 40s - 683ms/step - accuracy: 0.9402 - loss: 0.2071 - val_accuracy: 0.9572 - val_loss: 0.1543\n",
            "Epoch 3/10\n",
            "59/59 - 41s - 687ms/step - accuracy: 0.9617 - loss: 0.1352 - val_accuracy: 0.9694 - val_loss: 0.1052\n",
            "Epoch 4/10\n",
            "59/59 - 41s - 702ms/step - accuracy: 0.9722 - loss: 0.0991 - val_accuracy: 0.9761 - val_loss: 0.0819\n",
            "Epoch 5/10\n",
            "59/59 - 40s - 685ms/step - accuracy: 0.9780 - loss: 0.0789 - val_accuracy: 0.9789 - val_loss: 0.0674\n",
            "Epoch 6/10\n",
            "59/59 - 41s - 696ms/step - accuracy: 0.9816 - loss: 0.0657 - val_accuracy: 0.9820 - val_loss: 0.0585\n",
            "Epoch 7/10\n",
            "59/59 - 39s - 665ms/step - accuracy: 0.9837 - loss: 0.0581 - val_accuracy: 0.9815 - val_loss: 0.0585\n",
            "Epoch 8/10\n",
            "59/59 - 23s - 383ms/step - accuracy: 0.9852 - loss: 0.0510 - val_accuracy: 0.9817 - val_loss: 0.0546\n",
            "Epoch 9/10\n",
            "59/59 - 40s - 681ms/step - accuracy: 0.9873 - loss: 0.0449 - val_accuracy: 0.9834 - val_loss: 0.0496\n",
            "Epoch 10/10\n",
            "59/59 - 22s - 376ms/step - accuracy: 0.9886 - loss: 0.0407 - val_accuracy: 0.9840 - val_loss: 0.0476\n",
            "Accuracy: 0.984000027179718\n"
          ]
        }
      ],
      "source": [
        "model = convolutional_model()\n",
        "\n",
        "# fit the model\n",
        "model.fit(X_train, y_train, validation_data=(X_test, y_test), epochs=10, batch_size=1024, verbose=2)\n",
        "\n",
        "# evaluate the model\n",
        "scores = model.evaluate(X_test, y_test, verbose=0)\n",
        "print(\"Accuracy: {} \\n Error: {}\".format(scores[1], 100 - scores[1] *100))"
      ],
      "execution_count": 11
    },
    {
      "cell_type": "code",
      "source": [
        "print(\"Accuracy: {} \\n Error: {}\".format(scores[1], 100 - scores[1] *100))"
      ],
      "metadata": {
        "colab": {
          "base_uri": "https://localhost:8080/"
        },
        "id": "dRQy4b0EnLiR",
        "outputId": "1fae75dd-e703-4ff5-b129-1d161171eda1"
      },
      "execution_count": 12,
      "outputs": [
        {
          "output_type": "stream",
          "name": "stdout",
          "text": [
            "Accuracy: 0.984000027179718 \n",
            " Error: 1.5999972820281982\n"
          ]
        }
      ]
    },
    {
      "cell_type": "markdown",
      "metadata": {
        "id": "5989a3e9-0d9c-4769-a33d-fc22447a82bd"
      },
      "source": [
        "how does the number of epochs affect the time required and accuracy of the model training."
      ]
    },
    {
      "cell_type": "code",
      "metadata": {
        "colab": {
          "base_uri": "https://localhost:8080/"
        },
        "id": "f9e95cec-0929-4e21-82f2-88b829c59460",
        "outputId": "57b3a0a3-9e72-4568-ab86-b09e31be1b65"
      },
      "outputs": [
        {
          "output_type": "stream",
          "name": "stdout",
          "text": [
            "Epoch 1/25\n",
            "59/59 - 24s - 415ms/step - accuracy: 0.8290 - loss: 0.6645 - val_accuracy: 0.9321 - val_loss: 0.2425\n",
            "Epoch 2/25\n",
            "59/59 - 22s - 370ms/step - accuracy: 0.9456 - loss: 0.1923 - val_accuracy: 0.9625 - val_loss: 0.1348\n",
            "Epoch 3/25\n",
            "59/59 - 42s - 712ms/step - accuracy: 0.9663 - loss: 0.1196 - val_accuracy: 0.9733 - val_loss: 0.0943\n",
            "Epoch 4/25\n",
            "59/59 - 41s - 689ms/step - accuracy: 0.9758 - loss: 0.0865 - val_accuracy: 0.9787 - val_loss: 0.0713\n",
            "Epoch 5/25\n",
            "59/59 - 39s - 668ms/step - accuracy: 0.9805 - loss: 0.0697 - val_accuracy: 0.9822 - val_loss: 0.0592\n",
            "Epoch 6/25\n",
            "59/59 - 44s - 738ms/step - accuracy: 0.9832 - loss: 0.0586 - val_accuracy: 0.9837 - val_loss: 0.0534\n",
            "Epoch 7/25\n",
            "59/59 - 22s - 370ms/step - accuracy: 0.9856 - loss: 0.0505 - val_accuracy: 0.9844 - val_loss: 0.0474\n",
            "Epoch 8/25\n",
            "59/59 - 41s - 700ms/step - accuracy: 0.9873 - loss: 0.0443 - val_accuracy: 0.9860 - val_loss: 0.0459\n",
            "Epoch 9/25\n",
            "59/59 - 21s - 352ms/step - accuracy: 0.9886 - loss: 0.0399 - val_accuracy: 0.9866 - val_loss: 0.0453\n",
            "Epoch 10/25\n",
            "59/59 - 24s - 400ms/step - accuracy: 0.9894 - loss: 0.0371 - val_accuracy: 0.9870 - val_loss: 0.0409\n",
            "Epoch 11/25\n",
            "59/59 - 39s - 656ms/step - accuracy: 0.9906 - loss: 0.0332 - val_accuracy: 0.9874 - val_loss: 0.0385\n",
            "Epoch 12/25\n",
            "59/59 - 42s - 713ms/step - accuracy: 0.9911 - loss: 0.0303 - val_accuracy: 0.9870 - val_loss: 0.0384\n",
            "Epoch 13/25\n",
            "59/59 - 41s - 687ms/step - accuracy: 0.9922 - loss: 0.0278 - val_accuracy: 0.9875 - val_loss: 0.0372\n",
            "Epoch 14/25\n",
            "59/59 - 42s - 706ms/step - accuracy: 0.9929 - loss: 0.0263 - val_accuracy: 0.9878 - val_loss: 0.0370\n",
            "Epoch 15/25\n",
            "59/59 - 41s - 691ms/step - accuracy: 0.9931 - loss: 0.0244 - val_accuracy: 0.9883 - val_loss: 0.0378\n",
            "Epoch 16/25\n",
            "59/59 - 41s - 695ms/step - accuracy: 0.9934 - loss: 0.0233 - val_accuracy: 0.9877 - val_loss: 0.0368\n",
            "Epoch 17/25\n",
            "59/59 - 41s - 690ms/step - accuracy: 0.9945 - loss: 0.0203 - val_accuracy: 0.9876 - val_loss: 0.0382\n",
            "Epoch 18/25\n",
            "59/59 - 40s - 683ms/step - accuracy: 0.9942 - loss: 0.0204 - val_accuracy: 0.9876 - val_loss: 0.0362\n",
            "Epoch 19/25\n",
            "59/59 - 41s - 701ms/step - accuracy: 0.9954 - loss: 0.0172 - val_accuracy: 0.9883 - val_loss: 0.0354\n",
            "Epoch 20/25\n",
            "59/59 - 23s - 386ms/step - accuracy: 0.9958 - loss: 0.0161 - val_accuracy: 0.9879 - val_loss: 0.0364\n",
            "Epoch 21/25\n",
            "59/59 - 41s - 695ms/step - accuracy: 0.9959 - loss: 0.0153 - val_accuracy: 0.9867 - val_loss: 0.0378\n",
            "Epoch 22/25\n",
            "59/59 - 41s - 697ms/step - accuracy: 0.9965 - loss: 0.0140 - val_accuracy: 0.9884 - val_loss: 0.0375\n",
            "Epoch 23/25\n",
            "59/59 - 42s - 709ms/step - accuracy: 0.9968 - loss: 0.0128 - val_accuracy: 0.9883 - val_loss: 0.0350\n",
            "Epoch 24/25\n",
            "59/59 - 23s - 393ms/step - accuracy: 0.9972 - loss: 0.0116 - val_accuracy: 0.9880 - val_loss: 0.0357\n",
            "Epoch 25/25\n",
            "59/59 - 40s - 678ms/step - accuracy: 0.9971 - loss: 0.0115 - val_accuracy: 0.9882 - val_loss: 0.0353\n",
            "Accuracy: 0.9882000088691711 \n",
            " Error: 1.1799991130828857\n"
          ]
        }
      ],
      "source": [
        "model = convolutional_model()\n",
        "\n",
        "# fit the model\n",
        "model.fit(X_train, y_train, validation_data=(X_test, y_test), epochs=25, batch_size=1024, verbose=2)\n",
        "\n",
        "# evaluate the model\n",
        "scores = model.evaluate(X_test, y_test, verbose=0)\n",
        "print(\"Accuracy: {} \\n Error: {}\".format(scores[1], 100 - scores[1] *100))"
      ],
      "execution_count": 13
    },
    {
      "cell_type": "markdown",
      "source": [
        "# Comparison of Model Performance Across Different Configurations\n",
        "\n",
        "### **1. Model with 1 Layer | Batch Size = 200 | Epochs = 10**\n",
        "- **Accuracy**: `0.9892` (~98.92%)\n",
        "- **Error**: `1.08%`\n",
        "\n",
        "### **2. Model with 2 Layers | Batch Size = 200 | Epochs = 10**\n",
        "- **Accuracy**: `0.9875` (~98.75%)\n",
        "- **Error**: `1.25%`\n",
        "\n",
        "### **3. Model with 2 Layers | Batch Size = 1024 | Epochs = 10**\n",
        "- **Accuracy**: `0.9840` (~98.40%)\n",
        "- **Error**: `1.60%`\n",
        "\n",
        "### **4. Model with 2 Layers | Batch Size = 1024 | Epochs = 25**\n",
        "- **Accuracy**: `0.9882` (~98.82%)\n",
        "- **Error**: `1.18%`\n",
        "\n",
        "---\n",
        "\n",
        "### **Key Observations**\n",
        "\n",
        "#### **1. Accuracy Trends**:\n",
        "- The **highest accuracy (98.92%)** was achieved with **1 layer**, a **batch size of 200**, and **10 epochs**.\n",
        "- The **lowest accuracy (98.40%)** occurred with **2 layers**, a **batch size of 1024**, and **10 epochs**.\n",
        "- Increasing the number of layers slightly reduced accuracy, but increasing epochs (from 10 to 25) improved accuracy for the larger batch size configuration.\n",
        "\n",
        "#### **2. Error Trends**:\n",
        "- The **lowest error (1.08%)** was produced by the **1-layer model** with a **batch size of 200** and **10 epochs**.\n",
        "- The error rate increased with larger batch sizes but decreased with more epochs for the 2-layer model.\n",
        "\n",
        "#### **3. Layers and Complexity**:\n",
        "- Adding more layers enabled the model to capture more complex features but did not consistently improve performance on this dataset, as seen in the slight reduction in accuracy.\n",
        "\n",
        "#### **4. Batch Size and Epochs**:\n",
        "- **Smaller Batch Sizes (200)**:\n",
        "  - Smaller batch sizes led to higher accuracy and lower error, suggesting better generalization.\n",
        "- **Larger Batch Sizes (1024)**:\n",
        "  - Larger batch sizes resulted in faster training but slightly reduced accuracy.\n",
        "  - Increasing epochs for larger batch sizes helped recover some performance.\n",
        "\n",
        "---\n",
        "\n",
        "### **Conclusion**\n",
        "- The **1-layer model** with **batch size = 200** and **10 epochs** achieved the best overall performance, with the highest accuracy (98.92%) and the lowest error (1.08%).\n",
        "- For **2-layer models**, increasing epochs slightly improved performance for larger batch sizes but did not surpass the 1-layer configuration with smaller batch sizes."
      ],
      "metadata": {
        "id": "b06wIaWdrXuP"
      }
    },
    {
      "cell_type": "markdown",
      "metadata": {
        "id": "ab20d78f-6c72-4aad-b35d-e2e770c39d5e"
      },
      "source": [
        "## <h3 align=\"center\"> &#169; IBM Corporation. All rights reserved. <h3/>\n",
        "\n"
      ]
    }
  ],
  "metadata": {
    "kernelspec": {
      "display_name": "Python 3 (ipykernel)",
      "language": "python",
      "name": "python3"
    },
    "language_info": {
      "name": "python",
      "version": "3.12.8",
      "mimetype": "text/x-python",
      "codemirror_mode": {
        "name": "ipython",
        "version": 3
      },
      "pygments_lexer": "ipython3",
      "nbconvert_exporter": "python",
      "file_extension": ".py"
    },
    "prev_pub_hash": "cf25684b5f40b85f8cce20a89cf822f405779387881f3fd281fbe1317debe407",
    "colab": {
      "provenance": []
    }
  },
  "nbformat": 4,
  "nbformat_minor": 0
}